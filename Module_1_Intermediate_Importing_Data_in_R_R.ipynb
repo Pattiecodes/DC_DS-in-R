{
  "nbformat": 4,
  "nbformat_minor": 0,
  "metadata": {
    "colab": {
      "provenance": [],
      "authorship_tag": "ABX9TyNrybWBhloB+mEBlw3g1cLm",
      "include_colab_link": true
    },
    "kernelspec": {
      "name": "ir",
      "display_name": "R"
    },
    "language_info": {
      "name": "R"
    }
  },
  "cells": [
    {
      "cell_type": "markdown",
      "metadata": {
        "id": "view-in-github",
        "colab_type": "text"
      },
      "source": [
        "<a href=\"https://colab.research.google.com/github/Pattiecodes/DC_DS-in-R/blob/main/Module_1_Intermediate_Importing_Data_in_R_R.ipynb\" target=\"_parent\"><img src=\"https://colab.research.google.com/assets/colab-badge.svg\" alt=\"Open In Colab\"/></a>"
      ]
    },
    {
      "cell_type": "markdown",
      "source": [
        "## --- Module Start ---"
      ],
      "metadata": {
        "id": "kHUVCMqIpDYx"
      }
    },
    {
      "cell_type": "markdown",
      "source": [
        "# Establish a connection\n",
        "The first step to import data from a SQL database is creating a connection to it. As Filip explained, you need different packages depending on the database you want to connect to. All of these packages do this in a uniform way, as specified in the DBI package.\n",
        "\n",
        "dbConnect()creates a connection between your R session and a SQL database. The first argument has to be a DBIdriver object, that specifies how connections are made and how data is mapped between R and the database. Specifically for MySQL databases, you can build such a driver with RMySQL::MySQL().\n",
        "\n",
        "If the MySQL database is a remote database hosted on a server, you'll also have to specify the following arguments in dbConnect(): dbname, host, port, user and password. Most of these details have already been provided.\n",
        "\n",
        "Instructions\n",
        "100 XP\n",
        "Load the DBI library, which is already installed on DataCamp's servers.\n",
        "Edit the dbConnect() call to connect to the MySQL database. Change the port argument (3306) and user argument (\"student\")."
      ],
      "metadata": {
        "id": "TXir1cz4pHw2"
      }
    },
    {
      "cell_type": "code",
      "source": [
        "# Load the DBI package\n",
        "library(DBI)\n",
        "\n",
        "# Edit dbConnect() call\n",
        "con <- dbConnect(RMySQL::MySQL(),\n",
        "                 dbname = \"tweater\",\n",
        "                 host = \"courses.csrrinzqubik.us-east-1.rds.amazonaws.com\",\n",
        "                 port = 3306,\n",
        "                 user = \"student\",\n",
        "                 password = \"datacamp\")"
      ],
      "metadata": {
        "id": "KcUfFPuYpJgb"
      },
      "execution_count": null,
      "outputs": []
    },
    {
      "cell_type": "markdown",
      "source": [
        "# Import users\n",
        "As you might have guessed by now, the database contains data on a more tasty version of Twitter, namely Tweater. Users can post tweats with short recipes for delicious snacks. People can comment on these tweats. There are three tables: users, tweats, and comments that have relations among them. Which ones, you ask? You'll discover in a moment!\n",
        "\n",
        "Let's start by importing the data on the users into your R session. You do this with the dbReadTable() function. Simply pass it the connection object (con), followed by the name of the table you want to import. The resulting object is a standard R data frame.\n",
        "\n",
        "Instructions\n",
        "100 XP\n",
        "Add code that imports the \"users\" table from the tweater database and store the resulting data frame as users.\n",
        "Print the users data frame."
      ],
      "metadata": {
        "id": "uxhpfCgvr0go"
      }
    },
    {
      "cell_type": "code",
      "source": [
        "# Load the DBI package\n",
        "library(DBI)\n",
        "\n",
        "# Connect to the MySQL database: con\n",
        "con <- dbConnect(RMySQL::MySQL(),\n",
        "                 dbname = \"tweater\",\n",
        "                 host = \"courses.csrrinzqubik.us-east-1.rds.amazonaws.com\",\n",
        "                 port = 3306,\n",
        "                 user = \"student\",\n",
        "                 password = \"datacamp\")\n",
        "\n",
        "# Import the users table from tweater: users\n",
        "users <- dbReadTable(con, \"users\")\n",
        "\n",
        "# Print users\n",
        "users"
      ],
      "metadata": {
        "id": "YkS0NSfor1dq"
      },
      "execution_count": null,
      "outputs": []
    },
    {
      "cell_type": "markdown",
      "source": [
        "# Import all tables\n",
        "Next to the users, we're also interested in the tweats and comments tables. However, separate dbReadTable() calls for each and every one of the tables in your database would mean a lot of code duplication. Remember about the lapply() function? You can use it again here! A connection is already coded for you, as well as a vector table_names, containing the names of all the tables in the database.\n",
        "\n",
        "Instructions\n",
        "100 XP\n",
        "Finish the lapply() function to import the users, tweats and comments tables in a single call. The result, a list of data frames, will be stored in the variable tables.\n",
        "Print tables to check if you got it right."
      ],
      "metadata": {
        "id": "hy0pMrZ8sQBb"
      }
    },
    {
      "cell_type": "code",
      "source": [
        "# Load the DBI package\n",
        "library(DBI)\n",
        "\n",
        "# Connect to the MySQL database: con\n",
        "con <- dbConnect(RMySQL::MySQL(),\n",
        "                 dbname = \"tweater\",\n",
        "                 host = \"courses.csrrinzqubik.us-east-1.rds.amazonaws.com\",\n",
        "                 port = 3306,\n",
        "                 user = \"student\",\n",
        "                 password = \"datacamp\")\n",
        "\n",
        "# Get table names\n",
        "table_names <- dbListTables(con)\n",
        "\n",
        "# Import all tables\n",
        "tables <- lapply(table_names, dbReadTable, conn = con)\n",
        "\n",
        "# Print out tables\n",
        "tables"
      ],
      "metadata": {
        "id": "drMGoDbjsQSx"
      },
      "execution_count": null,
      "outputs": []
    }
  ]
}