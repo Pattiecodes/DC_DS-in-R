{
  "nbformat": 4,
  "nbformat_minor": 0,
  "metadata": {
    "colab": {
      "provenance": [],
      "authorship_tag": "ABX9TyOe5gAQU5y4lSThJRy/b8E4",
      "include_colab_link": true
    },
    "kernelspec": {
      "name": "python3",
      "display_name": "Python 3"
    },
    "language_info": {
      "name": "python"
    }
  },
  "cells": [
    {
      "cell_type": "markdown",
      "metadata": {
        "id": "view-in-github",
        "colab_type": "text"
      },
      "source": [
        "<a href=\"https://colab.research.google.com/github/Pattiecodes/DC_DS-in-R/blob/main/Module_5_Introduction_to_SQL.ipynb\" target=\"_parent\"><img src=\"https://colab.research.google.com/assets/colab-badge.svg\" alt=\"Open In Colab\"/></a>"
      ]
    },
    {
      "cell_type": "markdown",
      "source": [
        "# --- Module Start ---"
      ],
      "metadata": {
        "id": "4GB-bjmuIEkF"
      }
    },
    {
      "cell_type": "markdown",
      "source": [
        "# Querying the books table\n",
        "You're ready to practice writing your first SQL queries using the SELECT and FROM keywords. Recall from the video that SELECT is used to choose the fields that will be included in the result set, while FROM is used to pick the table in which the fields are listed.\n",
        "\n",
        "Feel free to explore books in the exercise.\n",
        "\n",
        "Your task in this exercise is to practice selecting fields from books.\n",
        "\n",
        "Instructions 1/3\n",
        "35 XP\n",
        "Select the title from the books table to view all book titles.\n"
      ],
      "metadata": {
        "id": "BT8pZkMB1Hqr"
      }
    },
    {
      "cell_type": "code",
      "source": [
        "-- Return all titles from the books table\n",
        "SELECT title\n",
        "FROM books;"
      ],
      "metadata": {
        "id": "ZJZwacwx1H9V"
      },
      "execution_count": null,
      "outputs": []
    },
    {
      "cell_type": "markdown",
      "source": [
        "Instructions 2/3\n",
        "Select both the title and author fields from books."
      ],
      "metadata": {
        "id": "EfVL0ls31LRz"
      }
    },
    {
      "cell_type": "code",
      "source": [
        "-- Select title and author from the books table\n",
        "SELECT title, author\n",
        "FROM books;"
      ],
      "metadata": {
        "id": "zoHwwIqI1MhS"
      },
      "execution_count": null,
      "outputs": []
    },
    {
      "cell_type": "markdown",
      "source": [
        "Instructions 3/3 Select all fields from the books table."
      ],
      "metadata": {
        "id": "j-tb0WKA1UGI"
      }
    },
    {
      "cell_type": "code",
      "source": [
        "-- Select all fields from the books table\n",
        "SELECT *\n",
        "FROM books;"
      ],
      "metadata": {
        "id": "CD9J8B3F1Xjr"
      },
      "execution_count": null,
      "outputs": []
    }
  ]
}