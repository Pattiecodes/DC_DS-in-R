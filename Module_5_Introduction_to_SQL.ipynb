{
  "nbformat": 4,
  "nbformat_minor": 0,
  "metadata": {
    "colab": {
      "provenance": [],
      "authorship_tag": "ABX9TyPS/w/GdTObJL/C8wxdPLKd",
      "include_colab_link": true
    },
    "kernelspec": {
      "name": "python3",
      "display_name": "Python 3"
    },
    "language_info": {
      "name": "python"
    }
  },
  "cells": [
    {
      "cell_type": "markdown",
      "metadata": {
        "id": "view-in-github",
        "colab_type": "text"
      },
      "source": [
        "<a href=\"https://colab.research.google.com/github/Pattiecodes/DC_DS-in-R/blob/main/Module_5_Introduction_to_SQL.ipynb\" target=\"_parent\"><img src=\"https://colab.research.google.com/assets/colab-badge.svg\" alt=\"Open In Colab\"/></a>"
      ]
    },
    {
      "cell_type": "markdown",
      "source": [
        "# --- Module Start ---"
      ],
      "metadata": {
        "id": "4GB-bjmuIEkF"
      }
    },
    {
      "cell_type": "markdown",
      "source": [
        "# Querying the books table\n",
        "You're ready to practice writing your first SQL queries using the SELECT and FROM keywords. Recall from the video that SELECT is used to choose the fields that will be included in the result set, while FROM is used to pick the table in which the fields are listed.\n",
        "\n",
        "Feel free to explore books in the exercise.\n",
        "\n",
        "Your task in this exercise is to practice selecting fields from books.\n",
        "\n",
        "Instructions 1/3\n",
        "35 XP\n",
        "Select the title from the books table to view all book titles.\n"
      ],
      "metadata": {
        "id": "BT8pZkMB1Hqr"
      }
    },
    {
      "cell_type": "code",
      "source": [
        "-- Return all titles from the books table\n",
        "SELECT title\n",
        "FROM books;"
      ],
      "metadata": {
        "id": "ZJZwacwx1H9V"
      },
      "execution_count": null,
      "outputs": []
    },
    {
      "cell_type": "markdown",
      "source": [
        "Instructions 2/3\n",
        "Select both the title and author fields from books."
      ],
      "metadata": {
        "id": "EfVL0ls31LRz"
      }
    },
    {
      "cell_type": "code",
      "source": [
        "-- Select title and author from the books table\n",
        "SELECT title, author\n",
        "FROM books;"
      ],
      "metadata": {
        "id": "zoHwwIqI1MhS"
      },
      "execution_count": null,
      "outputs": []
    },
    {
      "cell_type": "markdown",
      "source": [
        "Instructions 3/3 Select all fields from the books table."
      ],
      "metadata": {
        "id": "j-tb0WKA1UGI"
      }
    },
    {
      "cell_type": "code",
      "source": [
        "-- Select all fields from the books table\n",
        "SELECT *\n",
        "FROM books;"
      ],
      "metadata": {
        "id": "CD9J8B3F1Xjr"
      },
      "execution_count": null,
      "outputs": []
    },
    {
      "cell_type": "markdown",
      "source": [
        "# Making queries DISTINCT\n",
        "You've learned that the DISTINCT keyword can be used to return unique values in a field.\n",
        "\n",
        "The books table contains 350 books, representing all of the books that our local library has available for checkout.\n",
        "\n",
        "But how many different authors are represented in these 350 books?\n",
        "\n",
        "Instructions 1/2\n",
        "50 XP\n",
        "Select only the unique authors from the books table."
      ],
      "metadata": {
        "id": "mRAnFCCj3_Z9"
      }
    },
    {
      "cell_type": "code",
      "source": [
        "-- Select unique authors from the books table\n",
        "SELECT DISTINCT author\n",
        "FROM books;"
      ],
      "metadata": {
        "id": "mZjSwvXE3_oF"
      },
      "execution_count": null,
      "outputs": []
    },
    {
      "cell_type": "markdown",
      "source": [
        "Instructions 2/2 Update the code to return the unique author and genre combinations in the books table."
      ],
      "metadata": {
        "id": "FFVpjpew4CeJ"
      }
    },
    {
      "cell_type": "code",
      "source": [
        "-- Select unique authors and genre combinations from the books table\n",
        "SELECT DISTINCT author, genre\n",
        "FROM books;"
      ],
      "metadata": {
        "id": "3aIyNEJQ4DtQ"
      },
      "execution_count": null,
      "outputs": []
    },
    {
      "cell_type": "markdown",
      "source": [
        "# Aliasing\n",
        "Default column names in an SQL result set come from the fields used to create them. You can use aliasing to rename these columns. This is helpful for making it clear what the column is about.\n",
        "\n",
        "Instructions\n",
        "100 XP\n",
        "Add an alias to the SQL query to rename the author column to unique_author in the result set."
      ],
      "metadata": {
        "id": "X_em20ZSq3_J"
      }
    },
    {
      "cell_type": "code",
      "source": [
        "-- Alias author so that it becomes unique_author\n",
        "SELECT DISTINCT author AS unique_author\n",
        "FROM books;"
      ],
      "metadata": {
        "id": "6VmDqfINq4WY"
      },
      "execution_count": null,
      "outputs": []
    },
    {
      "cell_type": "markdown",
      "source": [
        "# VIEWing your query\n",
        "You've worked hard to create the below SQL query:\n",
        "\n",
        "SELECT DISTINCT author AS unique_author\n",
        "FROM books;\n",
        "What if you'd like to be able to refer to it later, or allow others to access and use the results?\n",
        "\n",
        "The best way to do this is by creating a view. Recall that a view is a virtual table: it's very similar to a real table, but rather than the data itself being stored, the query code is stored for later use.\n",
        "\n",
        "Instructions 1/2\n",
        "50 XP\n",
        "2\n",
        "Create a view called library_authors."
      ],
      "metadata": {
        "id": "wt1vzl7zrUzV"
      }
    },
    {
      "cell_type": "code",
      "source": [
        "-- Create a view called library_authors\n",
        "CREATE VIEW library_authors AS\n",
        "SELECT DISTINCT author AS unique_author\n",
        "FROM books;"
      ],
      "metadata": {
        "id": "mbK6Yf2lrVEY"
      },
      "execution_count": null,
      "outputs": []
    },
    {
      "cell_type": "markdown",
      "source": [
        "Instructions 2/2\n",
        "50 XP\n",
        "2\n",
        "Check that the view was created by selecting all columns from library_authors."
      ],
      "metadata": {
        "id": "Got7NiiZrY98"
      }
    },
    {
      "cell_type": "code",
      "source": [
        "-- Your code to create the view:\n",
        "CREATE VIEW library_authors AS\n",
        "SELECT DISTINCT author AS unique_author\n",
        "FROM books;\n",
        "\n",
        "-- Select all columns from library_authors\n",
        "SELECT *\n",
        "FROM library_authors"
      ],
      "metadata": {
        "id": "1fZosFlTrZMS"
      },
      "execution_count": null,
      "outputs": []
    },
    {
      "cell_type": "markdown",
      "source": [
        "# Limiting results\n",
        "Let's take a look at a few of the genres represented in our library's books.\n",
        "\n",
        "Recall that limiting results is useful when testing code since result sets can have thousands of results. Queries are often written with a LIMIT of just a few records to test out code before selecting thousands of results from the database.\n",
        "\n",
        "Let's practice with LIMIT!\n",
        "\n",
        "Instructions\n",
        "100 XP\n",
        "Using PostgreSQL, select the genre field from the books table; limit the number of results to 10."
      ],
      "metadata": {
        "id": "hUI0brvz04RB"
      }
    },
    {
      "cell_type": "code",
      "source": [
        "-- Select the first 10 genres from books using PostgreSQL\n",
        "SELECT genre\n",
        "FROM books\n",
        "LIMIT 10;"
      ],
      "metadata": {
        "id": "mQ1lvU_804i4"
      },
      "execution_count": null,
      "outputs": []
    },
    {
      "cell_type": "markdown",
      "source": [
        "# --- Module End ---"
      ],
      "metadata": {
        "id": "pTMRNgT51HS6"
      }
    }
  ]
}