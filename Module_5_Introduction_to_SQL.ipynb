{
  "nbformat": 4,
  "nbformat_minor": 0,
  "metadata": {
    "colab": {
      "provenance": [],
      "authorship_tag": "ABX9TyPv9OePUhiHCCe4nrp2CKQG",
      "include_colab_link": true
    },
    "kernelspec": {
      "name": "python3",
      "display_name": "Python 3"
    },
    "language_info": {
      "name": "python"
    }
  },
  "cells": [
    {
      "cell_type": "markdown",
      "metadata": {
        "id": "view-in-github",
        "colab_type": "text"
      },
      "source": [
        "<a href=\"https://colab.research.google.com/github/Pattiecodes/DC_DS-in-R/blob/main/Module_5_Introduction_to_SQL.ipynb\" target=\"_parent\"><img src=\"https://colab.research.google.com/assets/colab-badge.svg\" alt=\"Open In Colab\"/></a>"
      ]
    },
    {
      "cell_type": "markdown",
      "source": [
        "# --- Module Start ---"
      ],
      "metadata": {
        "id": "4GB-bjmuIEkF"
      }
    },
    {
      "cell_type": "markdown",
      "source": [
        "# Querying the books table\n",
        "You're ready to practice writing your first SQL queries using the SELECT and FROM keywords. Recall from the video that SELECT is used to choose the fields that will be included in the result set, while FROM is used to pick the table in which the fields are listed.\n",
        "\n",
        "Feel free to explore books in the exercise.\n",
        "\n",
        "Your task in this exercise is to practice selecting fields from books.\n",
        "\n",
        "Instructions 1/3\n",
        "35 XP\n",
        "Select the title from the books table to view all book titles.\n"
      ],
      "metadata": {
        "id": "BT8pZkMB1Hqr"
      }
    },
    {
      "cell_type": "code",
      "source": [
        "-- Return all titles from the books table\n",
        "SELECT title\n",
        "FROM books;"
      ],
      "metadata": {
        "id": "ZJZwacwx1H9V"
      },
      "execution_count": null,
      "outputs": []
    },
    {
      "cell_type": "markdown",
      "source": [
        "Instructions 2/3\n",
        "Select both the title and author fields from books."
      ],
      "metadata": {
        "id": "EfVL0ls31LRz"
      }
    },
    {
      "cell_type": "code",
      "source": [
        "-- Select title and author from the books table\n",
        "SELECT title, author\n",
        "FROM books;"
      ],
      "metadata": {
        "id": "zoHwwIqI1MhS"
      },
      "execution_count": null,
      "outputs": []
    },
    {
      "cell_type": "markdown",
      "source": [
        "Instructions 3/3 Select all fields from the books table."
      ],
      "metadata": {
        "id": "j-tb0WKA1UGI"
      }
    },
    {
      "cell_type": "code",
      "source": [
        "-- Select all fields from the books table\n",
        "SELECT *\n",
        "FROM books;"
      ],
      "metadata": {
        "id": "CD9J8B3F1Xjr"
      },
      "execution_count": null,
      "outputs": []
    },
    {
      "cell_type": "markdown",
      "source": [
        "# Making queries DISTINCT\n",
        "You've learned that the DISTINCT keyword can be used to return unique values in a field.\n",
        "\n",
        "The books table contains 350 books, representing all of the books that our local library has available for checkout.\n",
        "\n",
        "But how many different authors are represented in these 350 books?\n",
        "\n",
        "Instructions 1/2\n",
        "50 XP\n",
        "Select only the unique authors from the books table."
      ],
      "metadata": {
        "id": "mRAnFCCj3_Z9"
      }
    },
    {
      "cell_type": "code",
      "source": [
        "-- Select unique authors from the books table\n",
        "SELECT DISTINCT author\n",
        "FROM books;"
      ],
      "metadata": {
        "id": "mZjSwvXE3_oF"
      },
      "execution_count": null,
      "outputs": []
    },
    {
      "cell_type": "markdown",
      "source": [
        "Instructions 2/2 Update the code to return the unique author and genre combinations in the books table."
      ],
      "metadata": {
        "id": "FFVpjpew4CeJ"
      }
    },
    {
      "cell_type": "code",
      "source": [
        "-- Select unique authors and genre combinations from the books table\n",
        "SELECT DISTINCT author, genre\n",
        "FROM books;"
      ],
      "metadata": {
        "id": "3aIyNEJQ4DtQ"
      },
      "execution_count": null,
      "outputs": []
    }
  ]
}