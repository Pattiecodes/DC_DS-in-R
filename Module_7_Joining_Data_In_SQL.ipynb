{
  "nbformat": 4,
  "nbformat_minor": 0,
  "metadata": {
    "colab": {
      "provenance": [],
      "authorship_tag": "ABX9TyPIKMJ7NmWomjYN2eiwisX+",
      "include_colab_link": true
    },
    "kernelspec": {
      "name": "python3",
      "display_name": "Python 3"
    },
    "language_info": {
      "name": "python"
    }
  },
  "cells": [
    {
      "cell_type": "markdown",
      "metadata": {
        "id": "view-in-github",
        "colab_type": "text"
      },
      "source": [
        "<a href=\"https://colab.research.google.com/github/Pattiecodes/DC_DS-in-R/blob/main/Module_7_Joining_Data_In_SQL.ipynb\" target=\"_parent\"><img src=\"https://colab.research.google.com/assets/colab-badge.svg\" alt=\"Open In Colab\"/></a>"
      ]
    },
    {
      "cell_type": "markdown",
      "source": [
        "# --- Module Start ---"
      ],
      "metadata": {
        "id": "QdkIijb0eONV"
      }
    },
    {
      "cell_type": "markdown",
      "source": [
        "# Exercise\n",
        "Your first join\n",
        "Throughout this course, you'll be working with the countries database, which contains information about the most populous cities in the world, along with country-level economic, population, and geographic data. The database also contains information on languages spoken in each country.\n",
        "\n",
        "You can see the different tables in this database to get a sense of what they contain by clicking on the corresponding tabs. Familiarize yourself with the fields that seem to be shared across tables before you continue with the course.\n",
        "\n",
        "In this exercise, you'll use the cities and countries tables to build your first inner join. You'll start off by selecting all columns in step 1, performing your join in step 2, and then refining your join to choose specific columns in step 3.\n",
        "\n",
        "Instructions 1/3\n",
        "35 XP\n",
        "2\n",
        "3\n",
        "Begin by selecting all columns from the cities table, using the SQL shortcut that selects all."
      ],
      "metadata": {
        "id": "qXof_NmTsV3E"
      }
    },
    {
      "cell_type": "code",
      "execution_count": null,
      "metadata": {
        "id": "S-Lv0nr2eHLb"
      },
      "outputs": [],
      "source": [
        "-- Select all columns from cities\n",
        "SELECT *\n",
        "FROM cities;"
      ]
    },
    {
      "cell_type": "markdown",
      "source": [
        "Instructions 2/3\n",
        "35 XP\n",
        "2\n",
        "3\n",
        "Perform an inner join with the cities table on the left and the countries table on the right; you do not need to alias tables here.\n",
        "Join ON the country_code and code columns, making sure you identify them with the correct table."
      ],
      "metadata": {
        "id": "wJYNWlPvsYeC"
      }
    },
    {
      "cell_type": "code",
      "source": [
        "SELECT *\n",
        "FROM cities\n",
        "-- Inner join to countries\n",
        "INNER JOIN countries\n",
        "-- Match on country codes\n",
        "ON cities.country_code = countries.code"
      ],
      "metadata": {
        "id": "Eg1YTJWBsZ8w"
      },
      "execution_count": null,
      "outputs": []
    },
    {
      "cell_type": "markdown",
      "source": [
        "Instructions 3/3\n",
        "30 XP\n",
        "3\n",
        "Complete the SELECT statement to keep three columns: the name of the city, the name of the country, and the region the country is located in (in this order).\n",
        "Alias the name of the city AS city and the name of the country AS country."
      ],
      "metadata": {
        "id": "DterZ3ggs0TX"
      }
    },
    {
      "cell_type": "code",
      "source": [
        "-- Select name fields (with alias) and region\n",
        "SELECT cities.name AS city, countries.name AS country, region\n",
        "FROM cities\n",
        "INNER JOIN countries\n",
        "ON cities.country_code = countries.code;"
      ],
      "metadata": {
        "id": "GG-4xE7fs0e4"
      },
      "execution_count": null,
      "outputs": []
    },
    {
      "cell_type": "markdown",
      "source": [
        "# Joining with aliased tables\n",
        "Table aliases are helpful in allowing you to reference them in other parts of your query, like the SELECT statement.\n",
        "\n",
        "When you SELECT fields, a field can be ambiguous. For example, imagine two tables, apples and oranges, both containing a column called color. You need to use the syntax apples.color or oranges.color in your SELECT statement to point SQL to the correct table. Without this, you would get the following error:\n",
        "\n",
        "  column reference \"color\" is ambiguous\n",
        "You'll practice joining with aliased tables using data from both the countries and economies tables to examine the inflation rate in 2010 and 2015.\n",
        "\n",
        "When writing joins, many SQL users prefer to write the SELECT statement after writing the join code, in case the SELECT statement requires using table aliases.\n",
        "\n",
        "Instructions\n",
        "100 XP\n",
        "Start with your inner join in line 5; join the tables countries AS c (left) with economies (right), aliasing economies AS e.\n",
        "Next, use code as your joining field in line 7; do not use the USING command here.\n",
        "Lastly, select the following columns in order in line 2: code from the countries table (aliased as country_code), name, year, and inflation_rate."
      ],
      "metadata": {
        "id": "JfsO-FcotobV"
      }
    },
    {
      "cell_type": "code",
      "source": [
        "-- Select fields with aliases\n",
        "SELECT c.code AS country_code, name, year, inflation_rate\n",
        "FROM countries AS c\n",
        "-- Join to economies (alias e)\n",
        "INNER JOIN economies AS e\n",
        "-- Match on code field using table aliases\n",
        "ON c.code = e.code;"
      ],
      "metadata": {
        "id": "lIuo6CSItqAN"
      },
      "execution_count": null,
      "outputs": []
    },
    {
      "cell_type": "markdown",
      "source": [
        "# USING in action\n",
        "In the previous exercises, you performed your joins using the ON keyword. Recall that when both the field names being joined on are the same, you can take advantage of the USING clause.\n",
        "\n",
        "You'll now explore the languages table from our database. Which languages are official languages, and which ones are unofficial?\n",
        "\n",
        "You'll employ USING to simplify your query as you explore this question.\n",
        "\n",
        "Instructions\n",
        "100 XP\n",
        "Use the country code field to complete the INNER JOIN with USING; do not change any alias names."
      ],
      "metadata": {
        "id": "Dg0ZxUF-J18a"
      }
    },
    {
      "cell_type": "code",
      "source": [
        "SELECT c.name AS country, l.name AS language, official\n",
        "FROM countries AS c\n",
        "INNER JOIN languages AS l\n",
        "-- Match using the code column\n",
        "USING(code);"
      ],
      "metadata": {
        "id": "9o9UmqZxJ26I"
      },
      "execution_count": null,
      "outputs": []
    },
    {
      "cell_type": "markdown",
      "source": [
        "# Inspecting a relationship\n",
        "You've just identified that the countries table has a many-to-many relationship with the languages table. That is, many languages can be spoken in a country, and a language can be spoken in many countries.\n",
        "\n",
        "But, what is the best way to query all the different languages spoken in a country? Or, all the countries that speak a certain language?\n",
        "\n",
        "Instructions 1/4\n",
        "25 XP\n",
        "2\n",
        "3\n",
        "4\n",
        "Select the country name, aliased as country, from the countries table."
      ],
      "metadata": {
        "id": "KD4lGjFPwwIU"
      }
    },
    {
      "cell_type": "code",
      "source": [
        "-- Select country (aliased) from countries\n",
        "SELECT name AS country\n",
        "FROM countries;"
      ],
      "metadata": {
        "id": "XoU6YeAew6rQ"
      },
      "execution_count": null,
      "outputs": []
    },
    {
      "cell_type": "markdown",
      "source": [
        "Instructions 2/4\n",
        "25 XP\n",
        "3\n",
        "4\n",
        "Now add an alias c for the countries table and perform an inner join with the languages table, l, on the right; join on code in line 8 with the USING keyword; include the language name, aliased as language."
      ],
      "metadata": {
        "id": "mqcoWVXgxisZ"
      }
    },
    {
      "cell_type": "code",
      "source": [
        "-- Select country and language name (aliased)\n",
        "SELECT c.name AS country, l.name AS language\n",
        "-- From countries (aliased)\n",
        "FROM countries AS c\n",
        "-- Join to languages (aliased)\n",
        "INNER JOIN languages AS l\n",
        "-- Use code as the joining field with the USING keyword\n",
        "USING(code);"
      ],
      "metadata": {
        "id": "CfqFF2iexjTj"
      },
      "execution_count": null,
      "outputs": []
    },
    {
      "cell_type": "markdown",
      "source": [
        "Instructions 3/4\n",
        "25 XP\n",
        "4\n",
        "Add a WHERE clause to find how many countries speak the language 'Bhojpuri'."
      ],
      "metadata": {
        "id": "DyYDDEhsxxu_"
      }
    },
    {
      "cell_type": "code",
      "source": [
        "-- Select country and language name (aliased)\n",
        "SELECT c.name AS country, l.name AS language\n",
        "-- From countries (aliased)\n",
        "FROM countries AS c\n",
        "-- Join to languages (aliased)\n",
        "INNER JOIN languages AS l\n",
        "-- Use code as the joining field with the USING keyword\n",
        "USING(code)\n",
        "-- Filter for the Bhojpuri language\n",
        "WHERE l.name = 'Bhojpuri';"
      ],
      "metadata": {
        "id": "sg5IlnRwxyaa"
      },
      "execution_count": null,
      "outputs": []
    },
    {
      "cell_type": "markdown",
      "source": [
        "Inspecting a relationship\n",
        "You've just identified that the countries table has a many-to-many relationship with the languages table. That is, many languages can be spoken in a country, and a language can be spoken in many countries.\n",
        "\n",
        "But, what is the best way to query all the different languages spoken in a country? Or, all the countries that speak a certain language?\n",
        "\n",
        "Instructions 4/4\n",
        "25 XP\n",
        "Question\n",
        "In how many countries is the 'Bhojpuri' language spoken? Select the correct answer from the following options.\n",
        "The query you generated is provided below. Run this query to find the answer to the question.\n",
        "\n",
        "SELECT c.name AS country, l.name AS language\n",
        "FROM countries AS c\n",
        "INNER JOIN languages AS l\n",
        "USING(code)\n",
        "WHERE l.name = 'Bhojpuri';\n",
        "Possible answers\n",
        "\n",
        "\n",
        "1\n",
        "\n",
        "2\n",
        "\n",
        "3"
      ],
      "metadata": {
        "id": "nqZ2HpBzx7I-"
      }
    },
    {
      "cell_type": "code",
      "source": [
        "SELECT c.name AS country, l.name AS language\n",
        "FROM countries AS c\n",
        "INNER JOIN languages AS l\n",
        "USING(code)\n",
        "WHERE l.name = 'Bhojpuri';"
      ],
      "metadata": {
        "id": "A5U3wiDAx7dm"
      },
      "execution_count": null,
      "outputs": []
    },
    {
      "cell_type": "markdown",
      "source": [
        "# Joining multiple tables\n",
        "You've seen that the ability to combine multiple joins using a single query is a powerful feature of SQL.\n",
        "\n",
        "Suppose you are interested in the relationship between fertility and unemployment rates. Your task in this exercise is to join tables to return the country name, year, fertility rate, and unemployment rate in a single result from the countries, populations and economies tables.\n",
        "\n",
        "Instructions 1/2\n",
        "50 XP\n",
        "Do an inner join of countries AS c (left) with populations AS p (right), on code.\n",
        "Select name and fertility_rate."
      ],
      "metadata": {
        "id": "ds1uGtD7zxOa"
      }
    },
    {
      "cell_type": "code",
      "source": [
        "-- Select relevant fields\n",
        "SELECT name, fertility_rate\n",
        "FROM countries AS c\n",
        "-- Inner join countries and populations, aliased, on code\n",
        "INNER JOIN populations AS p\n",
        "ON c.code = p.country_code;"
      ],
      "metadata": {
        "id": "hISNt9OWzxhr"
      },
      "execution_count": null,
      "outputs": []
    },
    {
      "cell_type": "markdown",
      "source": [
        "Instructions 2/2\n",
        "\n",
        "Chain an inner join with the economies table AS e, on code.\n",
        "Select year and unemployment_rate from the economies table."
      ],
      "metadata": {
        "id": "YujCCm2A0Iv8"
      }
    },
    {
      "cell_type": "code",
      "source": [
        "-- Select fields\n",
        "SELECT name, e.year, fertility_rate, e.unemployment_rate\n",
        "FROM countries AS c\n",
        "INNER JOIN populations AS p\n",
        "ON c.code = p.country_code\n",
        "-- Join to economies (as e)\n",
        "INNER JOIN economies AS e\n",
        "-- Match on country code\n",
        "ON c.code = e.code;"
      ],
      "metadata": {
        "id": "m5oFtBIb0Jh9"
      },
      "execution_count": null,
      "outputs": []
    },
    {
      "cell_type": "markdown",
      "source": [
        "# Checking multi-table joins\n",
        "Have a look at the results for Albania from the previous query below. You can see that the 2015 fertility_rate has been paired with 2010 unemployment_rate, and vice versa.\n",
        "```\n",
        "name\tyear\tfertility_rate\tunemployment_rate\n",
        "Albania\t2015\t1.663\t17.1\n",
        "Albania\t2010\t1.663\t14\n",
        "Albania\t2015\t1.793\t17.1\n",
        "Albania\t2010\t1.793\t14\n",
        "```\n",
        "Instead of four records, the query should return two: one for each year. The last join was performed on c.code = e.code, without also joining on year. Your task in this exercise is to fix your query by explicitly stating that both the country code and year should match!\n",
        "\n",
        "Instructions\n",
        "100 XP\n",
        "Modify your query so that you are joining to economies on year as well as code."
      ],
      "metadata": {
        "id": "HKVxyy3hyfG7"
      }
    },
    {
      "cell_type": "code",
      "source": [
        "SELECT name, e.year, fertility_rate, unemployment_rate\n",
        "FROM countries AS c\n",
        "INNER JOIN populations AS p\n",
        "ON c.code = p.country_code\n",
        "INNER JOIN economies AS e\n",
        "ON c.code = e.code\n",
        "-- Add an additional joining condition such that you are also joining on year\n",
        "\tAND e.year = p.year;"
      ],
      "metadata": {
        "id": "nfVTlfhFyqQL"
      },
      "execution_count": null,
      "outputs": []
    },
    {
      "cell_type": "markdown",
      "source": [
        "# This is a LEFT JOIN, right?\n",
        "Nice work getting to grips with the structure of joins! In this exercise, you'll explore the differences between INNER JOIN and LEFT JOIN. This will help you decide which type of join to use.\n",
        "\n",
        "As before, you will be using the cities and countries tables.\n",
        "\n",
        "You'll begin with an INNER JOIN with the cities table (left) and countries table (right). This helps if you are interested only in records where a country is present in both tables.\n",
        "\n",
        "You'll then change to a LEFT JOIN. This helps if you're interested in returning all countries in the cities table, whether or not they have a match in the countries table.\n",
        "\n",
        "Instructions 1/2\n",
        "50 XP\n",
        "Perform an inner join with cities AS c1 on the left and countries as c2 on the right.\n",
        "Use code as the field to merge your tables on."
      ],
      "metadata": {
        "id": "tPpPD5gzz38M"
      }
    },
    {
      "cell_type": "code",
      "source": [
        "SELECT\n",
        "    c1.name AS city,\n",
        "    code,\n",
        "    c2.name AS country,\n",
        "    region,\n",
        "    city_proper_pop\n",
        "FROM cities AS c1\n",
        "-- Perform an inner join with cities as c1 and countries as c2 on country code\n",
        "INNER JOIN countries AS c2\n",
        "ON c1.country_code = c2.code\n",
        "ORDER BY code DESC;"
      ],
      "metadata": {
        "id": "adFSqItAz4YC"
      },
      "execution_count": null,
      "outputs": []
    },
    {
      "cell_type": "markdown",
      "source": [
        "Instructions 2/2\n",
        "\n",
        "Change the code to perform a LEFT JOIN instead of an INNER JOIN.\n",
        "After executing this query, have a look at how many records the query result contains."
      ],
      "metadata": {
        "id": "XOvCTTfJ0O5y"
      }
    },
    {
      "cell_type": "code",
      "source": [
        "SELECT\n",
        "\tc1.name AS city,\n",
        "    code,\n",
        "    c2.name AS country,\n",
        "    region,\n",
        "    city_proper_pop\n",
        "FROM cities AS c1\n",
        "-- Join right table (with alias)\n",
        "LEFT JOIN countries AS c2\n",
        "ON c1.country_code = c2.code\n",
        "ORDER BY code DESC;"
      ],
      "metadata": {
        "id": "L1rE1IPD0P2Y"
      },
      "execution_count": null,
      "outputs": []
    },
    {
      "cell_type": "markdown",
      "source": [
        "# Building on your LEFT JOIN\n",
        "You'll now revisit the use of the AVG() function introduced in a previous course.\n",
        "\n",
        "Being able to build more than one SQL function into your query will enable you to write compact, supercharged queries.\n",
        "\n",
        "You will use AVG() in combination with a LEFT JOIN to determine the average gross domestic product (GDP) per capita by region in 2010.\n",
        "\n",
        "Instructions 1/3\n",
        "35 XP\n",
        "1\n",
        "2\n",
        "3\n",
        "Complete the LEFT JOIN with the countries table on the left and the economies table on the right on the code field.\n",
        "Filter the records from the year 2010."
      ],
      "metadata": {
        "id": "DI1TKkHv0wQ_"
      }
    },
    {
      "cell_type": "code",
      "source": [
        "SELECT name, region, gdp_percapita\n",
        "FROM countries AS c\n",
        "LEFT JOIN economies AS e\n",
        "-- Match on code fields\n",
        "USING(code)\n",
        "-- Filter for the year 2010\n",
        "WHERE year = 2010;"
      ],
      "metadata": {
        "id": "279HG-dw0wjp"
      },
      "execution_count": null,
      "outputs": []
    },
    {
      "cell_type": "markdown",
      "source": [
        "Instructions 2/3\n",
        "35 XP\n",
        "2\n",
        "3\n",
        "To calculate per capita GDP per region, begin by grouping by region.\n",
        "After your GROUP BY, choose region in your SELECT statement, followed by average GDP per capita using the AVG() function, with AS avg_gdp as your alias."
      ],
      "metadata": {
        "id": "quYPT1C91XTd"
      }
    },
    {
      "cell_type": "code",
      "source": [
        "-- Select region, and average gdp_percapita as avg_gdp\n",
        "SELECT region, AVG(gdp_percapita) AS avg_gdp\n",
        "FROM countries AS c\n",
        "LEFT JOIN economies AS e\n",
        "USING(code)\n",
        "WHERE year = 2010\n",
        "-- Group by region\n",
        "GROUP BY region;"
      ],
      "metadata": {
        "id": "QGpZzhl81YBP"
      },
      "execution_count": null,
      "outputs": []
    },
    {
      "cell_type": "markdown",
      "source": [
        "Instructions 3/3\n",
        "30 XP\n",
        "3\n",
        "Order the result set by the average GDP per capita from highest to lowest.\n",
        "Return only the first 10 records in your result."
      ],
      "metadata": {
        "id": "Wrdz9NEV1uEK"
      }
    },
    {
      "cell_type": "code",
      "source": [
        "SELECT region, AVG(gdp_percapita) AS avg_gdp\n",
        "FROM countries AS c\n",
        "LEFT JOIN economies AS e\n",
        "USING(code)\n",
        "WHERE year = 2010\n",
        "GROUP BY region\n",
        "-- Order by descending avg_gdp\n",
        "ORDER BY avg_gdp DESC\n",
        "-- Return only first 10 records\n",
        "LIMIT 10;"
      ],
      "metadata": {
        "id": "Q9LSuu3m1uav"
      },
      "execution_count": null,
      "outputs": []
    },
    {
      "cell_type": "markdown",
      "source": [
        "# Is this RIGHT?\n",
        "You learned that right joins are not used as commonly as left joins. A key reason for this is that right joins can always be re-written as left joins, and because joins are typically typed from left to right, joining from the left feels more intuitive when constructing queries.\n",
        "\n",
        "It can be tricky to wrap one's head around when left and right joins return equivalent results. You'll explore this in this exercise!\n",
        "\n",
        "Instructions\n",
        "100 XP\n",
        "Write a new query using RIGHT JOIN that produces an identical result to the LEFT JOIN provided."
      ],
      "metadata": {
        "id": "1FdUl8l_23zK"
      }
    },
    {
      "cell_type": "code",
      "source": [
        "-- Modify this query to use RIGHT JOIN instead of LEFT JOIN\n",
        "SELECT countries.name AS country, languages.name AS language, percent\n",
        "FROM languages\n",
        "RIGHT JOIN countries\n",
        "USING(code)\n",
        "ORDER BY language;"
      ],
      "metadata": {
        "id": "CPHj__u124JE"
      },
      "execution_count": null,
      "outputs": []
    },
    {
      "cell_type": "markdown",
      "source": [
        "# Comparing joins\n",
        "In this exercise, you'll examine how results can differ when performing a full join compared to a left join and inner join by joining the countries and currencies tables. You'll be focusing on the North American region and records where the name of the country is missing.\n",
        "\n",
        "You'll begin with a full join with countries on the left and currencies on the right. Recall the workings of a full join with the diagram below!\n",
        "\n",
        "\n",
        "You'll then complete a similar left join and conclude with an inner join, observing the results you see along the way.\n",
        "\n",
        "Instructions 1/3\n",
        "35 XP\n",
        "Perform a full join with countries (left) and currencies (right).\n",
        "Filter for the North America region or NULL country names."
      ],
      "metadata": {
        "id": "27-TQCGG_VGD"
      }
    },
    {
      "cell_type": "code",
      "source": [
        "SELECT name AS country, code, region, basic_unit\n",
        "FROM countries\n",
        "-- Join to currencies\n",
        "FULL JOIN currencies\n",
        "USING (code)\n",
        "-- Where region is North America or name is null\n",
        "WHERE region = 'North America' OR name IS NULL\n",
        "ORDER BY region;"
      ],
      "metadata": {
        "id": "6qKynjEk_V35"
      },
      "execution_count": null,
      "outputs": []
    },
    {
      "cell_type": "markdown",
      "source": [
        "Instructions 2/3\n",
        "\n",
        "Repeat the same query as before, turning your full join into a left join with the currencies table.\n",
        "Have a look at what has changed in the output by comparing it to the full join result.\n",
        "\n"
      ],
      "metadata": {
        "id": "mdrW7bCs_ab5"
      }
    },
    {
      "cell_type": "code",
      "source": [
        "SELECT name AS country, code, region, basic_unit\n",
        "FROM countries\n",
        "-- Join to currencies\n",
        "LEFT JOIN currencies\n",
        "USING (code)\n",
        "WHERE region = 'North America'\n",
        "\tOR name IS NULL\n",
        "ORDER BY region;"
      ],
      "metadata": {
        "id": "10RzXXVn_bkh"
      },
      "execution_count": null,
      "outputs": []
    },
    {
      "cell_type": "markdown",
      "source": [
        "Instructions 3/3\n",
        "\n",
        "\n",
        "Repeat the same query again, this time performing an inner join of countries with currencies.\n",
        "Have a look at what has changed in the output by comparing it to the full join and left join results!"
      ],
      "metadata": {
        "id": "pta6RzOM_nEK"
      }
    },
    {
      "cell_type": "code",
      "source": [
        "SELECT name AS country, code, region, basic_unit\n",
        "FROM countries\n",
        "-- Join to currencies\n",
        "INNER JOIN currencies\n",
        "USING (code)\n",
        "WHERE region = 'North America'\n",
        "\tOR name IS NULL\n",
        "ORDER BY region;"
      ],
      "metadata": {
        "id": "0AlOdgXo_pAp"
      },
      "execution_count": null,
      "outputs": []
    },
    {
      "cell_type": "markdown",
      "source": [
        "# Chaining FULL JOINs\n",
        "As you have seen in the previous chapter on INNER JOIN, it is possible to chain joins in SQL, such as when looking to connect data from more than two tables.\n",
        "\n",
        "Suppose you are doing some research on Melanesia and Micronesia, and are interested in pulling information about languages and currencies into the data we see for these regions in the countries table. Since languages and currencies exist in separate tables, this will require two consecutive full joins involving the countries, languages and currencies tables.\n",
        "\n",
        "Instructions\n",
        "100 XP\n",
        "Complete the FULL JOIN with countries as c1 on the left and languages as l on the right, using code to perform this join.\n",
        "Next, chain this join with another FULL JOIN, placing currencies on the right, joining on code again."
      ],
      "metadata": {
        "id": "fJWhKUD_AdEO"
      }
    },
    {
      "cell_type": "code",
      "source": [
        "SELECT\n",
        "\tc1.name AS country,\n",
        "    region,\n",
        "    l.name AS language,\n",
        "\tbasic_unit,\n",
        "    frac_unit\n",
        "FROM countries as c1\n",
        "-- Full join with languages (alias as l)\n",
        "FULL JOIN languages AS l\n",
        "USING(code)\n",
        "-- Full join with currencies (alias as c2)\n",
        "FULL JOIN currencies AS c2\n",
        "USING(code)\n",
        "WHERE region LIKE 'M%esia';"
      ],
      "metadata": {
        "id": "9_qhZhqnAdZP"
      },
      "execution_count": null,
      "outputs": []
    },
    {
      "cell_type": "markdown",
      "source": [
        "# Histories and languages\n",
        "Well done getting to know all about CROSS JOIN! As you have learned, CROSS JOIN can be incredibly helpful when asking questions that involve looking at all possible combinations or pairings between two sets of data.\n",
        "\n",
        "Imagine you are a researcher interested in the languages spoken in two countries: Pakistan and India. You are interested in asking:\n",
        "\n",
        "What are the languages presently spoken in the two countries?\n",
        "Given the shared history between the two countries, what languages could potentially have been spoken in either country over the course of their history?\n",
        "In this exercise, we will explore how INNER JOIN and CROSS JOIN can help us answer these two questions, respectively.\n",
        "\n",
        "Instructions 1/2\n",
        "50 XP\n",
        "Complete the code to perform an INNER JOIN of countries AS c with languages AS l using the code field to obtain the languages currently spoken in the two countries."
      ],
      "metadata": {
        "id": "MstFpGBKi3QB"
      }
    },
    {
      "cell_type": "code",
      "source": [
        "SELECT c.name AS country, l.name AS language\n",
        "-- Inner join countries as c with languages as l on code\n",
        "FROM countries as c\n",
        "INNER JOIN languages as l\n",
        "USING(code)\n",
        "WHERE c.code IN ('PAK','IND')\n",
        "\tAND l.code in ('PAK','IND');"
      ],
      "metadata": {
        "id": "RT7OIsuti33p"
      },
      "execution_count": null,
      "outputs": []
    },
    {
      "cell_type": "markdown",
      "source": [
        "Instructions 2/2\n",
        "\n",
        "Change your INNER JOIN to a different kind of join to look at possible combinations of languages that could have been spoken in the two countries given their history.\n",
        "Observe the differences in output for both joins."
      ],
      "metadata": {
        "id": "gwkGM6m4i7y6"
      }
    },
    {
      "cell_type": "code",
      "source": [
        "SELECT c.name AS country, l.name AS language\n",
        "FROM countries AS c\n",
        "-- Perform a cross join to languages (alias as l)\n",
        "CROSS JOIN languages as l\n",
        "WHERE c.code in ('PAK','IND')\n",
        "\tAND l.code in ('PAK','IND');"
      ],
      "metadata": {
        "id": "uauGq_uui8NW"
      },
      "execution_count": null,
      "outputs": []
    },
    {
      "cell_type": "markdown",
      "source": [
        "# Choosing your join\n",
        "Now that you're fully equipped to use joins, try a challenge problem to test your knowledge!\n",
        "\n",
        "You will determine the names of the five countries and their respective regions with the lowest life expectancy for the year 2010. Use your knowledge about joins, filtering, sorting and limiting to create this list!\n",
        "\n",
        "Instructions\n",
        "100 XP\n",
        "Complete the join of countries AS c with populations as p.\n",
        "Filter on the year 2010.\n",
        "Sort your results by life expectancy in ascending order.\n",
        "Limit the result to five countries."
      ],
      "metadata": {
        "id": "M729fsE2jvbe"
      }
    },
    {
      "cell_type": "code",
      "source": [
        "SELECT\n",
        "\tc.name AS country,\n",
        "    region,\n",
        "    life_expectancy AS life_exp\n",
        "FROM countries AS c\n",
        "-- Join to populations (alias as p) using an appropriate join\n",
        "LEFT JOIN populations AS p\n",
        "ON c.code = p.country_code\n",
        "-- Filter for only results in the year 2010\n",
        "WHERE year = 2010\n",
        "-- Sort by life_exp\n",
        "ORDER BY life_exp\n",
        "-- Limit to five records\n",
        "LIMIT 5;"
      ],
      "metadata": {
        "id": "jcWucT4Njv0q"
      },
      "execution_count": null,
      "outputs": []
    },
    {
      "cell_type": "markdown",
      "source": [
        "# Comparing a country to itself\n",
        "Self joins are very useful for comparing data from one part of a table with another part of the same table. Suppose you are interested in finding out how much the populations for each country changed from 2010 to 2015. You can visualize this change by performing a self join.\n",
        "\n",
        "In this exercise, you'll work to answer this question by joining the populations table with itself. Recall that, with self joins, tables must be aliased. Use this as an opportunity to practice your aliasing!\n",
        "\n",
        "Since you'll be joining the populations table to itself, you can alias populations first as p1 and again as p2. This is good practice whenever you are aliasing tables with the same first letter.\n",
        "\n",
        "Instructions 1/2\n",
        "50 XP\n",
        "2\n",
        "Perform an inner join of populations with itself ON country_code, aliased p1 and p2 respectively.\n",
        "Select the country_code from p1 and the size field from both p1 and p2, aliasing p1.size as size2010 and p2.size as size2015 (in that order)."
      ],
      "metadata": {
        "id": "PXTvpqxUpX2s"
      }
    },
    {
      "cell_type": "code",
      "source": [
        "-- Select aliased fields from populations as p1\n",
        "SELECT\n",
        "\tp1.country_code,\n",
        "    p1.size AS size2010,\n",
        "    p2.size AS size2015\n",
        "FROM populations AS p1\n",
        "-- Join populations as p1 to itself, alias as p2, on country code\n",
        "INNER JOIN populations AS p2\n",
        "ON p1.country_code = p2.country_code;"
      ],
      "metadata": {
        "id": "vIfxfI8apYek"
      },
      "execution_count": null,
      "outputs": []
    },
    {
      "cell_type": "markdown",
      "source": [
        "Instructions 2/2\n",
        "50 XP\n",
        "Since you want to compare records from 2010 and 2015, eliminate unwanted records by extending the WHERE statement to include only records where the p1.year matches p2.year - 5."
      ],
      "metadata": {
        "id": "4tKDMjD1puaq"
      }
    },
    {
      "cell_type": "code",
      "source": [
        "SELECT\n",
        "\tp1.country_code,\n",
        "    p1.size AS size2010,\n",
        "    p2.size AS size2015\n",
        "FROM populations AS p1\n",
        "INNER JOIN populations AS p2\n",
        "ON p1.country_code = p2.country_code\n",
        "WHERE p1.year = 2010\n",
        "-- Filter such that p1.year is always five years before p2.year\n",
        "    AND p1.year = p2.year - 5;"
      ],
      "metadata": {
        "id": "KuPf84WbpuvG"
      },
      "execution_count": null,
      "outputs": []
    }
  ]
}