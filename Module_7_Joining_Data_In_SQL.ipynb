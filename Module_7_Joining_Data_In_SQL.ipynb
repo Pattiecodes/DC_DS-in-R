{
  "nbformat": 4,
  "nbformat_minor": 0,
  "metadata": {
    "colab": {
      "provenance": [],
      "authorship_tag": "ABX9TyN7Iw3310hIzqzb+1whr7z3",
      "include_colab_link": true
    },
    "kernelspec": {
      "name": "python3",
      "display_name": "Python 3"
    },
    "language_info": {
      "name": "python"
    }
  },
  "cells": [
    {
      "cell_type": "markdown",
      "metadata": {
        "id": "view-in-github",
        "colab_type": "text"
      },
      "source": [
        "<a href=\"https://colab.research.google.com/github/Pattiecodes/DC_DS-in-R/blob/main/Module_7_Joining_Data_In_SQL.ipynb\" target=\"_parent\"><img src=\"https://colab.research.google.com/assets/colab-badge.svg\" alt=\"Open In Colab\"/></a>"
      ]
    },
    {
      "cell_type": "markdown",
      "source": [
        "# --- Module Start ---"
      ],
      "metadata": {
        "id": "QdkIijb0eONV"
      }
    },
    {
      "cell_type": "markdown",
      "source": [
        "# Exercise\n",
        "Your first join\n",
        "Throughout this course, you'll be working with the countries database, which contains information about the most populous cities in the world, along with country-level economic, population, and geographic data. The database also contains information on languages spoken in each country.\n",
        "\n",
        "You can see the different tables in this database to get a sense of what they contain by clicking on the corresponding tabs. Familiarize yourself with the fields that seem to be shared across tables before you continue with the course.\n",
        "\n",
        "In this exercise, you'll use the cities and countries tables to build your first inner join. You'll start off by selecting all columns in step 1, performing your join in step 2, and then refining your join to choose specific columns in step 3.\n",
        "\n",
        "Instructions 1/3\n",
        "35 XP\n",
        "2\n",
        "3\n",
        "Begin by selecting all columns from the cities table, using the SQL shortcut that selects all."
      ],
      "metadata": {
        "id": "qXof_NmTsV3E"
      }
    },
    {
      "cell_type": "code",
      "execution_count": null,
      "metadata": {
        "id": "S-Lv0nr2eHLb"
      },
      "outputs": [],
      "source": [
        "-- Select all columns from cities\n",
        "SELECT *\n",
        "FROM cities;"
      ]
    },
    {
      "cell_type": "markdown",
      "source": [
        "Instructions 2/3\n",
        "35 XP\n",
        "2\n",
        "3\n",
        "Perform an inner join with the cities table on the left and the countries table on the right; you do not need to alias tables here.\n",
        "Join ON the country_code and code columns, making sure you identify them with the correct table."
      ],
      "metadata": {
        "id": "wJYNWlPvsYeC"
      }
    },
    {
      "cell_type": "code",
      "source": [
        "SELECT *\n",
        "FROM cities\n",
        "-- Inner join to countries\n",
        "INNER JOIN countries\n",
        "-- Match on country codes\n",
        "ON cities.country_code = countries.code"
      ],
      "metadata": {
        "id": "Eg1YTJWBsZ8w"
      },
      "execution_count": null,
      "outputs": []
    },
    {
      "cell_type": "markdown",
      "source": [
        "Instructions 3/3\n",
        "30 XP\n",
        "3\n",
        "Complete the SELECT statement to keep three columns: the name of the city, the name of the country, and the region the country is located in (in this order).\n",
        "Alias the name of the city AS city and the name of the country AS country."
      ],
      "metadata": {
        "id": "DterZ3ggs0TX"
      }
    },
    {
      "cell_type": "code",
      "source": [
        "-- Select name fields (with alias) and region\n",
        "SELECT cities.name AS city, countries.name AS country, region\n",
        "FROM cities\n",
        "INNER JOIN countries\n",
        "ON cities.country_code = countries.code;"
      ],
      "metadata": {
        "id": "GG-4xE7fs0e4"
      },
      "execution_count": null,
      "outputs": []
    }
  ]
}