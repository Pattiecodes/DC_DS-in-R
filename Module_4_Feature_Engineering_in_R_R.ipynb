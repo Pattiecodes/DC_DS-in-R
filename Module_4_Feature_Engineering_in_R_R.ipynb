{
  "nbformat": 4,
  "nbformat_minor": 0,
  "metadata": {
    "colab": {
      "provenance": [],
      "authorship_tag": "ABX9TyMjhUQlW6UyJYVWqgAdMq1j",
      "include_colab_link": true
    },
    "kernelspec": {
      "name": "ir",
      "display_name": "R"
    },
    "language_info": {
      "name": "R"
    }
  },
  "cells": [
    {
      "cell_type": "markdown",
      "metadata": {
        "id": "view-in-github",
        "colab_type": "text"
      },
      "source": [
        "<a href=\"https://colab.research.google.com/github/Pattiecodes/DC_DS-in-R/blob/main/Module_4_Feature_Engineering_in_R_R.ipynb\" target=\"_parent\"><img src=\"https://colab.research.google.com/assets/colab-badge.svg\" alt=\"Open In Colab\"/></a>"
      ]
    },
    {
      "cell_type": "markdown",
      "source": [
        "# --- Module Start ---\n",
        "\n"
      ],
      "metadata": {
        "id": "IbR-0h-jhcgE"
      }
    },
    {
      "cell_type": "markdown",
      "source": [
        "# A tentative model\n",
        "You are handed a data set with measures of the gravitational force between two bodies at different distances and are challenged to build a simple model to predict such force given a specific distance. Initially, you want to stick to simple linear regression. The data consist of 120 pairs of distance and force, and is loaded for you as newton.\n",
        "\n",
        "Instructions\n",
        "100 XP\n",
        "Build a linear model for the newton data using the linear model from base R function and assign it to lr_force.\n",
        "Create a new data frame df by binding the prediction values to the original newton data.\n",
        "Generate a scatterplot of force versus distance using ggplot().\n",
        "Add a regression line to the scatterplot with the fitted values."
      ],
      "metadata": {
        "id": "AenshZBrhfWw"
      }
    },
    {
      "cell_type": "code",
      "execution_count": null,
      "metadata": {
        "id": "Q-H6c9M3NtH1"
      },
      "outputs": [],
      "source": [
        "# Build a linear model for the newton the data and assign it to lr_force\n",
        "lr_force <- lm(force ~ distance, data = newton)\n",
        "\n",
        "# Create a new data frame by binding the prediction values to the original data\n",
        "df <- newton %>% bind_cols(lr_pred = predict(lr_force))\n",
        "\n",
        "# Generate a scatterplot of force vs. distance\n",
        "df %>%\n",
        "  ggplot(aes(x = distance, y = force)) +\n",
        "  geom_point() +\n",
        "# Add a regression line with the fitted values\n",
        "  geom_line(aes(y = lr_pred), color = \"blue\", lwd = .75) +\n",
        "  ggtitle(\"Linear regression of force vs. distance\") +\n",
        "  theme_classic()\n"
      ]
    },
    {
      "cell_type": "markdown",
      "source": [
        "# Manually engineering a feature\n",
        "After doing some research with your team, you recall that the gravitational force of attraction between two bodies obeys Newton's formula:\n",
        "\n",
        "\n",
        "$$\n",
        "F = G \\frac{m_1 m_2}{r^2}\n",
        "$$.\n",
        "\n",
        "You can't use the formula directly because the masses are unknown, but you can fit a regression model of force as a function of inv_square_distance. The augmented dataset df you built in the previous exercise has been loaded for you.\n",
        "\n",
        "Instructions\n",
        "100 XP\n",
        "Create a new variable inv_square_distance defined as the reciprocal of the squared distance and add it to the df data frame.\n",
        "Build a simple regression model using lm() of force versus inv_square_distance and save it as lr_force_2.\n",
        "Bind your predictions to df_inverse."
      ],
      "metadata": {
        "id": "lqcgdxddk5Np"
      }
    },
    {
      "cell_type": "code",
      "source": [
        "# Create a new variable inv_square_distance\n",
        "df_inverse <- df %>% mutate(inv_square_distance = 1/distance^2)\n",
        "\n",
        "# Build a simple regression model\n",
        "lr_force_2 <- lm(force ~ inv_square_distance, data = df_inverse)\n",
        "\n",
        "# Bind your predictions to df_inverse\n",
        "df_inverse <- df_inverse %>% bind_cols(lr2_pred = predict(lr_force_2))\n",
        "\n",
        "df_inverse %>% ggplot(aes(x = distance, y = force)) +\n",
        "  geom_point() +\n",
        "  geom_line(aes(y = lr2_pred), col = \"blue\", lwd = .75) +\n",
        "  ggtitle(\"Linear regression of force vs. inv_square_distance\") +\n",
        "  theme_classic()"
      ],
      "metadata": {
        "id": "RQcWKKqplkkI"
      },
      "execution_count": null,
      "outputs": []
    },
    {
      "cell_type": "markdown",
      "source": [
        "# Setting up your data for analysis\n",
        "You will look at a version of the nycflights13 dataset, loaded as flights. It contains information on flights departing from New York City. You are interested in predicting whether or not they will arrive late to their destination, but first, you need to set up the data for analysis.\n",
        "\n",
        "After discussing our model goals with a team of experts, you selected the following variables for your model: flight, sched_dep_time, dep_delay, sched_arr_time, carrier, origin, dest, distance, date, arrival.\n",
        "\n",
        "You will also mutate() the date using as.Date() and convert character type variables to factors.\n",
        "\n",
        "Lastly, you will split the data into train and test datasets.\n",
        "\n",
        "Instructions\n",
        "100 XP\n",
        "Transform all character-type variables to factors.\n",
        "Split the flights data into test and train sets."
      ],
      "metadata": {
        "id": "wkSM9aNz9NDC"
      }
    },
    {
      "cell_type": "code",
      "source": [
        "flights <- flights %>%\n",
        "  select(flight, sched_dep_time, dep_delay, sched_arr_time, carrier, origin, dest, distance, date, arrival) %>%\n",
        "\n",
        "# Tranform all character-type variables to factors\n",
        "  mutate(date = as.Date(date), across(where(is.character), as.factor))\n",
        "\n",
        "# Split the flights data into test and train sets\n",
        "set.seed(246)\n",
        "split <- flights %>% initial_split(prop = 3/4, strata = arrival)\n",
        "test <- testing(split)\n",
        "train <- training(split)\n",
        "\n",
        "test %>% select(arrival) %>% table() %>% prop.table()\n",
        "train %>% select(arrival) %>% table() %>% prop.table()"
      ],
      "metadata": {
        "id": "TFjviP9u9Ntc"
      },
      "execution_count": null,
      "outputs": []
    },
    {
      "cell_type": "markdown",
      "source": [
        "# Building a workflow\n",
        "With your data ready for analysis, you will declare a logistic_model() to predict whether or not they will arrive late.\n",
        "\n",
        "You assign the role of \"ID\" to the flight variable to keep it as a reference for analysis and debugging. From the date variable, you will create new features to explicitly model the effect of holidays and represent factors as dummy variables.\n",
        "\n",
        "Bundling your model and recipe() together using workflow()will help ensure that subsequent fittings or predictions will implement consistent feature engineering steps.\n",
        "\n",
        "Instructions\n",
        "100 XP\n",
        "Assign an \"ID\" role to flight.\n",
        "Bundle the model and the recipe into a workflow object.\n",
        "Fit lr_workflow to the test data.\n",
        "Tidy the fitted workflow."
      ],
      "metadata": {
        "id": "IBzXbsU7-FvB"
      }
    },
    {
      "cell_type": "code",
      "source": [
        "lr_model <- logistic_reg()\n",
        "\n",
        "# Assign an \"ID\" role to flight\n",
        "lr_recipe <- recipe(arrival ~., data = train) %>% update_role(flight, new_role = \"ID\") %>%\n",
        "  step_holiday(date, holidays = timeDate::listHolidays(\"US\")) %>% step_dummy(all_nominal_predictors())\n",
        "\n",
        "# Bundle the model and the recipe into a workflow object\n",
        "lr_workflow <- workflow() %>% add_model(lr_model) %>% add_recipe(lr_recipe)\n",
        "lr_workflow\n",
        "\n",
        "# Fit lr_workflow workflow to the test data\n",
        "lr_fit <- lr_workflow %>% fit(data = test)\n",
        "\n",
        "# Tidy the fitted workflow\n",
        "tidy(lr_fit)"
      ],
      "metadata": {
        "id": "GJqmQrKZ-GEx"
      },
      "execution_count": null,
      "outputs": []
    },
    {
      "cell_type": "markdown",
      "source": [
        "# Identifying missing values\n",
        "Attrition is a critical issue for corporations, as losing an employee implies not only the cost of recruiting and training a new one, but constitutes a loss in tacit knowledge and culture that is hard to recover.\n",
        "\n",
        "The attritiondataset has information on employee attrition including Age, WorkLifeBalance, DistanceFromHome, StockOptionLevel, and 27 others. Before continuing with your analysis, you want to detect any missing variables.\n",
        "\n",
        "The package naniar and the attritiondataset are already loaded for you."
      ],
      "metadata": {
        "id": "naUdrdzN4r9O"
      }
    },
    {
      "cell_type": "code",
      "source": [
        "# Explore missing data on the attrition dataset\n",
        "vis_miss(attrition)"
      ],
      "metadata": {
        "id": "FAhkTBOa4tAX"
      },
      "execution_count": null,
      "outputs": []
    },
    {
      "cell_type": "markdown",
      "source": [
        "Instructions 2/2\n",
        "\n",
        "Select the variables with missing values and visualize only those."
      ],
      "metadata": {
        "id": "qMAVIht-4uqe"
      }
    },
    {
      "cell_type": "code",
      "source": [
        "# Select the variables with missing values and rerun the analysis on those variables.\n",
        "attrition %>%\n",
        "  select(\"BusinessTravel\", \"DistanceFromHome\",\n",
        "         \"StockOptionLevel\", \"WorkLifeBalance\") %>%\n",
        "  vis_miss()"
      ],
      "metadata": {
        "id": "lC56zlJY4xNO"
      },
      "execution_count": null,
      "outputs": []
    }
  ]
}