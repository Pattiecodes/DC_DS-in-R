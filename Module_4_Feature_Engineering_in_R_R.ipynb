{
  "nbformat": 4,
  "nbformat_minor": 0,
  "metadata": {
    "colab": {
      "provenance": [],
      "authorship_tag": "ABX9TyMA6RbqR68cuSg+Jb0JLP4Z",
      "include_colab_link": true
    },
    "kernelspec": {
      "name": "ir",
      "display_name": "R"
    },
    "language_info": {
      "name": "R"
    }
  },
  "cells": [
    {
      "cell_type": "markdown",
      "metadata": {
        "id": "view-in-github",
        "colab_type": "text"
      },
      "source": [
        "<a href=\"https://colab.research.google.com/github/Pattiecodes/DC_DS-in-R/blob/main/Module_4_Feature_Engineering_in_R_R.ipynb\" target=\"_parent\"><img src=\"https://colab.research.google.com/assets/colab-badge.svg\" alt=\"Open In Colab\"/></a>"
      ]
    },
    {
      "cell_type": "markdown",
      "source": [
        "# --- Module Start ---\n",
        "\n"
      ],
      "metadata": {
        "id": "IbR-0h-jhcgE"
      }
    },
    {
      "cell_type": "markdown",
      "source": [
        "# A tentative model\n",
        "You are handed a data set with measures of the gravitational force between two bodies at different distances and are challenged to build a simple model to predict such force given a specific distance. Initially, you want to stick to simple linear regression. The data consist of 120 pairs of distance and force, and is loaded for you as newton.\n",
        "\n",
        "Instructions\n",
        "100 XP\n",
        "Build a linear model for the newton data using the linear model from base R function and assign it to lr_force.\n",
        "Create a new data frame df by binding the prediction values to the original newton data.\n",
        "Generate a scatterplot of force versus distance using ggplot().\n",
        "Add a regression line to the scatterplot with the fitted values."
      ],
      "metadata": {
        "id": "AenshZBrhfWw"
      }
    },
    {
      "cell_type": "code",
      "execution_count": null,
      "metadata": {
        "id": "Q-H6c9M3NtH1"
      },
      "outputs": [],
      "source": [
        "# Build a linear model for the newton the data and assign it to lr_force\n",
        "lr_force <- lm(force ~ distance, data = newton)\n",
        "\n",
        "# Create a new data frame by binding the prediction values to the original data\n",
        "df <- newton %>% bind_cols(lr_pred = predict(lr_force))\n",
        "\n",
        "# Generate a scatterplot of force vs. distance\n",
        "df %>%\n",
        "  ggplot(aes(x = distance, y = force)) +\n",
        "  geom_point() +\n",
        "# Add a regression line with the fitted values\n",
        "  geom_line(aes(y = lr_pred), color = \"blue\", lwd = .75) +\n",
        "  ggtitle(\"Linear regression of force vs. distance\") +\n",
        "  theme_classic()\n"
      ]
    }
  ]
}