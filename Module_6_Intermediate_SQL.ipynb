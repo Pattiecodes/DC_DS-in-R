{
  "nbformat": 4,
  "nbformat_minor": 0,
  "metadata": {
    "colab": {
      "provenance": [],
      "authorship_tag": "ABX9TyPZI916DuOMPEsOTmcnqD+8",
      "include_colab_link": true
    },
    "kernelspec": {
      "name": "python3",
      "display_name": "Python 3"
    },
    "language_info": {
      "name": "python"
    }
  },
  "cells": [
    {
      "cell_type": "markdown",
      "metadata": {
        "id": "view-in-github",
        "colab_type": "text"
      },
      "source": [
        "<a href=\"https://colab.research.google.com/github/Pattiecodes/DC_DS-in-R/blob/main/Module_6_Intermediate_SQL.ipynb\" target=\"_parent\"><img src=\"https://colab.research.google.com/assets/colab-badge.svg\" alt=\"Open In Colab\"/></a>"
      ]
    },
    {
      "cell_type": "markdown",
      "source": [
        "# --- Module Start ---"
      ],
      "metadata": {
        "id": "MnDJbqr0K6Yd"
      }
    },
    {
      "cell_type": "markdown",
      "source": [
        "# Learning to COUNT()\n",
        "You saw how to use COUNT() in the video. Do you remember what it returns?\n",
        "\n",
        "Here is a query counting film_id. Select the answer below that correctly describes what the query will return.\n",
        "\n",
        "SELECT COUNT(film_id) AS count_film_id\n",
        "FROM reviews;\n",
        "Run the query in the console to test your theory!\n",
        "\n",
        "Instructions\n",
        "50 XP\n",
        "Possible answers\n",
        "\n",
        "\n",
        "The number of unique films in the reviews table.\n",
        "\n",
        "The number of records containing a film_id.\n",
        "\n",
        "The total number of records in the reviews table.\n",
        "\n",
        "The sum of the film_id field."
      ],
      "metadata": {
        "id": "I_SdJrWqK_BK"
      }
    },
    {
      "cell_type": "code",
      "execution_count": null,
      "metadata": {
        "id": "65xS58Ry1TPN"
      },
      "outputs": [],
      "source": [
        "SELECT COUNT(film_id) AS count_film_id\n",
        "FROM reviews;"
      ]
    }
  ]
}