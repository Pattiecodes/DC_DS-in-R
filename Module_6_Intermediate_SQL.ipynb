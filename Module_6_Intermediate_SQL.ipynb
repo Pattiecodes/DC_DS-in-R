{
  "nbformat": 4,
  "nbformat_minor": 0,
  "metadata": {
    "colab": {
      "provenance": [],
      "authorship_tag": "ABX9TyOe3fgtRc2S8r1dSFe1xssy",
      "include_colab_link": true
    },
    "kernelspec": {
      "name": "python3",
      "display_name": "Python 3"
    },
    "language_info": {
      "name": "python"
    }
  },
  "cells": [
    {
      "cell_type": "markdown",
      "metadata": {
        "id": "view-in-github",
        "colab_type": "text"
      },
      "source": [
        "<a href=\"https://colab.research.google.com/github/Pattiecodes/DC_DS-in-R/blob/main/Module_6_Intermediate_SQL.ipynb\" target=\"_parent\"><img src=\"https://colab.research.google.com/assets/colab-badge.svg\" alt=\"Open In Colab\"/></a>"
      ]
    },
    {
      "cell_type": "markdown",
      "source": [
        "# --- Module Start ---"
      ],
      "metadata": {
        "id": "MnDJbqr0K6Yd"
      }
    },
    {
      "cell_type": "markdown",
      "source": [
        "# Learning to COUNT()\n",
        "You saw how to use COUNT() in the video. Do you remember what it returns?\n",
        "\n",
        "Here is a query counting film_id. Select the answer below that correctly describes what the query will return.\n",
        "\n",
        "SELECT COUNT(film_id) AS count_film_id\n",
        "FROM reviews;\n",
        "Run the query in the console to test your theory!\n",
        "\n",
        "Instructions\n",
        "50 XP\n",
        "Possible answers\n",
        "\n",
        "\n",
        "The number of unique films in the reviews table.\n",
        "\n",
        "The number of records containing a film_id.\n",
        "\n",
        "The total number of records in the reviews table.\n",
        "\n",
        "The sum of the film_id field."
      ],
      "metadata": {
        "id": "I_SdJrWqK_BK"
      }
    },
    {
      "cell_type": "code",
      "execution_count": null,
      "metadata": {
        "id": "65xS58Ry1TPN"
      },
      "outputs": [],
      "source": [
        "SELECT COUNT(film_id) AS count_film_id\n",
        "FROM reviews;"
      ]
    },
    {
      "cell_type": "markdown",
      "source": [
        "# Practice with COUNT()\n",
        "As you've seen, COUNT(*) tells you how many records are in a table. However, if you want to count the number of non-missing values in a particular field, you can call COUNT() on just that field.\n",
        "\n",
        "Let's get some practice with COUNT()! You can look at the data in the tables throughout these exercises by clicking on the table name in the console.\n",
        "\n",
        "Instructions 1/3\n",
        "35 XP\n",
        "Count the total number of records in the people table, aliasing the result as count_records."
      ],
      "metadata": {
        "id": "DOpX5rsBMB8O"
      }
    },
    {
      "cell_type": "code",
      "source": [
        "-- Count the number of records in the people table\n",
        "SELECT COUNT(*) AS count_records\n",
        "FROM people;"
      ],
      "metadata": {
        "id": "_0Gjx88CMCSW"
      },
      "execution_count": null,
      "outputs": []
    },
    {
      "cell_type": "markdown",
      "source": [
        "Instructions 2/3\n",
        "Count the number of records with a birthdate in the people table, aliasing the result as count_birthdate."
      ],
      "metadata": {
        "id": "ENenxawiMTid"
      }
    },
    {
      "cell_type": "code",
      "source": [
        "-- Count the number of birthdates in the people table\n",
        "SELECT COUNT(birthdate) AS count_birthdate\n",
        "FROM people;"
      ],
      "metadata": {
        "id": "MUZIp2EwMU1R"
      },
      "execution_count": null,
      "outputs": []
    },
    {
      "cell_type": "markdown",
      "source": [
        "Instructions 3/3\n",
        "Count the records for languages and countries in the films table; alias as count_languages and count_countries.\n",
        "\n"
      ],
      "metadata": {
        "id": "satcuVBiM1Z5"
      }
    },
    {
      "cell_type": "code",
      "source": [
        "-- Count the records for languages and countries represented in the films table\n",
        "SELECT COUNT(language) AS count_languages, COUNT(country) AS count_countries\n",
        "FROM films;"
      ],
      "metadata": {
        "id": "Yv-KTd4BM22I"
      },
      "execution_count": null,
      "outputs": []
    },
    {
      "cell_type": "markdown",
      "source": [
        "# SELECT DISTINCT\n",
        "Often query results will include many duplicate values. You can use the DISTINCT keyword to select the unique values from a field.\n",
        "\n",
        "This might be useful if, for example, you're interested in knowing which languages are represented in the films table. See if you can find out what countries are represented in this table with the following exercises.\n",
        "\n",
        "Instructions 1/2\n",
        "50 XP\n",
        "1\n",
        "Return the unique countries represented in the films table using DISTINCT."
      ],
      "metadata": {
        "id": "zKnRnVtZNU5U"
      }
    },
    {
      "cell_type": "code",
      "source": [
        "-- Return the unique countries from the films table\n",
        "SELECT DISTINCT country\n",
        "FROM films;"
      ],
      "metadata": {
        "id": "QE6qWzwvNVHR"
      },
      "execution_count": null,
      "outputs": []
    },
    {
      "cell_type": "markdown",
      "source": [
        "Instructions 2/2\n",
        "Return the number of unique countries represented in the films table, aliased as count_distinct_countries."
      ],
      "metadata": {
        "id": "KN5drv-WNkuI"
      }
    },
    {
      "cell_type": "code",
      "source": [
        "-- Count the distinct countries from the films table\n",
        "SELECT COUNT(DISTINCT country) AS count_distinct_countries\n",
        "FROM films;"
      ],
      "metadata": {
        "id": "x5e3VXvANlul"
      },
      "execution_count": null,
      "outputs": []
    }
  ]
}