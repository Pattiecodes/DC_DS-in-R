{
  "nbformat": 4,
  "nbformat_minor": 0,
  "metadata": {
    "colab": {
      "provenance": [],
      "authorship_tag": "ABX9TyOLZV7l3EjJa1CHpnLNxME0",
      "include_colab_link": true
    },
    "kernelspec": {
      "name": "python3",
      "display_name": "Python 3"
    },
    "language_info": {
      "name": "python"
    }
  },
  "cells": [
    {
      "cell_type": "markdown",
      "metadata": {
        "id": "view-in-github",
        "colab_type": "text"
      },
      "source": [
        "<a href=\"https://colab.research.google.com/github/Pattiecodes/DC_DS-in-R/blob/main/Module_6_Intermediate_SQL.ipynb\" target=\"_parent\"><img src=\"https://colab.research.google.com/assets/colab-badge.svg\" alt=\"Open In Colab\"/></a>"
      ]
    },
    {
      "cell_type": "markdown",
      "source": [
        "# --- Module Start ---"
      ],
      "metadata": {
        "id": "MnDJbqr0K6Yd"
      }
    },
    {
      "cell_type": "markdown",
      "source": [
        "# Learning to COUNT()\n",
        "You saw how to use COUNT() in the video. Do you remember what it returns?\n",
        "\n",
        "Here is a query counting film_id. Select the answer below that correctly describes what the query will return.\n",
        "\n",
        "SELECT COUNT(film_id) AS count_film_id\n",
        "FROM reviews;\n",
        "Run the query in the console to test your theory!\n",
        "\n",
        "Instructions\n",
        "50 XP\n",
        "Possible answers\n",
        "\n",
        "\n",
        "The number of unique films in the reviews table.\n",
        "\n",
        "The number of records containing a film_id.\n",
        "\n",
        "The total number of records in the reviews table.\n",
        "\n",
        "The sum of the film_id field."
      ],
      "metadata": {
        "id": "I_SdJrWqK_BK"
      }
    },
    {
      "cell_type": "code",
      "execution_count": null,
      "metadata": {
        "id": "65xS58Ry1TPN"
      },
      "outputs": [],
      "source": [
        "SELECT COUNT(film_id) AS count_film_id\n",
        "FROM reviews;"
      ]
    },
    {
      "cell_type": "markdown",
      "source": [
        "# Practice with COUNT()\n",
        "As you've seen, COUNT(*) tells you how many records are in a table. However, if you want to count the number of non-missing values in a particular field, you can call COUNT() on just that field.\n",
        "\n",
        "Let's get some practice with COUNT()! You can look at the data in the tables throughout these exercises by clicking on the table name in the console.\n",
        "\n",
        "Instructions 1/3\n",
        "35 XP\n",
        "Count the total number of records in the people table, aliasing the result as count_records."
      ],
      "metadata": {
        "id": "DOpX5rsBMB8O"
      }
    },
    {
      "cell_type": "code",
      "source": [
        "-- Count the number of records in the people table\n",
        "SELECT COUNT(*) AS count_records\n",
        "FROM people;"
      ],
      "metadata": {
        "id": "_0Gjx88CMCSW"
      },
      "execution_count": null,
      "outputs": []
    },
    {
      "cell_type": "markdown",
      "source": [
        "Instructions 2/3\n",
        "Count the number of records with a birthdate in the people table, aliasing the result as count_birthdate."
      ],
      "metadata": {
        "id": "ENenxawiMTid"
      }
    },
    {
      "cell_type": "code",
      "source": [
        "-- Count the number of birthdates in the people table\n",
        "SELECT COUNT(birthdate) AS count_birthdate\n",
        "FROM people;"
      ],
      "metadata": {
        "id": "MUZIp2EwMU1R"
      },
      "execution_count": null,
      "outputs": []
    },
    {
      "cell_type": "markdown",
      "source": [
        "Instructions 3/3\n",
        "Count the records for languages and countries in the films table; alias as count_languages and count_countries.\n",
        "\n"
      ],
      "metadata": {
        "id": "satcuVBiM1Z5"
      }
    },
    {
      "cell_type": "code",
      "source": [
        "-- Count the records for languages and countries represented in the films table\n",
        "SELECT COUNT(language) AS count_languages, COUNT(country) AS count_countries\n",
        "FROM films;"
      ],
      "metadata": {
        "id": "Yv-KTd4BM22I"
      },
      "execution_count": null,
      "outputs": []
    },
    {
      "cell_type": "markdown",
      "source": [
        "# SELECT DISTINCT\n",
        "Often query results will include many duplicate values. You can use the DISTINCT keyword to select the unique values from a field.\n",
        "\n",
        "This might be useful if, for example, you're interested in knowing which languages are represented in the films table. See if you can find out what countries are represented in this table with the following exercises.\n",
        "\n",
        "Instructions 1/2\n",
        "50 XP\n",
        "1\n",
        "Return the unique countries represented in the films table using DISTINCT."
      ],
      "metadata": {
        "id": "zKnRnVtZNU5U"
      }
    },
    {
      "cell_type": "code",
      "source": [
        "-- Return the unique countries from the films table\n",
        "SELECT DISTINCT country\n",
        "FROM films;"
      ],
      "metadata": {
        "id": "QE6qWzwvNVHR"
      },
      "execution_count": null,
      "outputs": []
    },
    {
      "cell_type": "markdown",
      "source": [
        "Instructions 2/2\n",
        "Return the number of unique countries represented in the films table, aliased as count_distinct_countries."
      ],
      "metadata": {
        "id": "KN5drv-WNkuI"
      }
    },
    {
      "cell_type": "code",
      "source": [
        "-- Count the distinct countries from the films table\n",
        "SELECT COUNT(DISTINCT country) AS count_distinct_countries\n",
        "FROM films;"
      ],
      "metadata": {
        "id": "x5e3VXvANlul"
      },
      "execution_count": null,
      "outputs": []
    },
    {
      "cell_type": "markdown",
      "source": [
        "# Debugging errors\n",
        "Debugging is an essential skill for all coders, and it comes from making many mistakes and learning from them.\n",
        "\n",
        "In this exercise, you'll be given some buggy code that you'll need to fix.\n",
        "\n",
        "Instructions 1/3\n",
        "35 XP\n",
        "Debug and fix the SQL query provided."
      ],
      "metadata": {
        "id": "GPXBDaluXTSQ"
      }
    },
    {
      "cell_type": "code",
      "source": [
        "-- Debug this code\n",
        "SELECT certification\n",
        "FROM films\n",
        "LIMIT 5;"
      ],
      "metadata": {
        "id": "ffIOINgFXTjQ"
      },
      "execution_count": null,
      "outputs": []
    },
    {
      "cell_type": "markdown",
      "source": [
        "Instructions 2/3\n",
        "Find the two errors in this code; the same error has been repeated twice."
      ],
      "metadata": {
        "id": "bTcc-myKXWUI"
      }
    },
    {
      "cell_type": "code",
      "source": [
        "-- Debug this code\n",
        "SELECT film_id, imdb_score, num_votes\n",
        "FROM reviews;"
      ],
      "metadata": {
        "id": "e1FI3ujyXXVw"
      },
      "execution_count": null,
      "outputs": []
    },
    {
      "cell_type": "markdown",
      "source": [
        "Instructions 3/3 Find the two bugs in this final query."
      ],
      "metadata": {
        "id": "Mp0if3bwXsQX"
      }
    },
    {
      "cell_type": "code",
      "source": [
        "-- Debug this code\n",
        "SELECT COUNT(birthdate) AS count_birthdays\n",
        "FROM people;"
      ],
      "metadata": {
        "id": "1spvZ4wlXtVA"
      },
      "execution_count": null,
      "outputs": []
    },
    {
      "cell_type": "markdown",
      "source": [
        "# Formatting\n",
        "Readable code is highly valued in the coding community and professional settings. Without proper formatting, code and results can be difficult to interpret. You'll often be working with other people that need to understand your code or be able to explain your results, so having a solid formatting habit is essential.\n",
        "\n",
        "In this exercise, you'll correct poorly written code to better adhere to SQL style standards.\n",
        "\n",
        "Instructions\n",
        "100 XP\n",
        "Adjust the sample code so that it is in line with standard practices."
      ],
      "metadata": {
        "id": "KduCw81XsjnU"
      }
    },
    {
      "cell_type": "code",
      "source": [
        "-- Rewrite this query\n",
        "SELECT\n",
        "    person_id,\n",
        "    role\n",
        "FROM roles\n",
        "LIMIT 10;"
      ],
      "metadata": {
        "id": "QW1nse83sj50"
      },
      "execution_count": null,
      "outputs": []
    },
    {
      "cell_type": "markdown",
      "source": [
        "# Using WHERE with numbers\n",
        "Filtering with WHERE allows you to analyze your data better. You may have a dataset that includes a range of different movies, and you need to do a case study on the most notable films with the biggest budgets. In this case, you'll want to filter your data to a specific budget range.\n",
        "\n",
        "Now it's your turn to use the WHERE clause to filter numeric values!\n",
        "\n",
        "Instructions 1/3\n",
        "35 XP\n",
        "Select the film_id and imdb_score from the reviews table and filter on scores higher than 7.0."
      ],
      "metadata": {
        "id": "cUs88mlWfGOd"
      }
    },
    {
      "cell_type": "code",
      "source": [
        "-- Select film_id and imdb_score with an imdb_score over 7.0\n",
        "SELECT film_id, imdb_score\n",
        "FROM reviews\n",
        "WHERE imdb_score > 7.0"
      ],
      "metadata": {
        "id": "QFxGt_ipfGuz"
      },
      "execution_count": null,
      "outputs": []
    },
    {
      "cell_type": "markdown",
      "source": [
        "Instructions 2/3 Select the film_id and facebook_likes of the first ten records with less than 1000 likes from the reviews table."
      ],
      "metadata": {
        "id": "ku7Kmlr2fbBi"
      }
    },
    {
      "cell_type": "code",
      "source": [
        "-- Select film_id and facebook_likes for ten records with less than 1000 likes\n",
        "SELECT film_id, facebook_likes\n",
        "FROM reviews\n",
        "WHERE facebook_likes < 1000\n",
        "LIMIT 10;"
      ],
      "metadata": {
        "id": "rX15TXokfcyu"
      },
      "execution_count": null,
      "outputs": []
    },
    {
      "cell_type": "markdown",
      "source": [
        "Instructions 3/3 Count how many records have a num_votes of at least 100,000; use the alias films_over_100K_votes."
      ],
      "metadata": {
        "id": "x3bOFOG8feBi"
      }
    },
    {
      "cell_type": "code",
      "source": [
        "-- Count the records with at least 100,000 votes\n",
        "SELECT COUNT(*) AS films_over_100K_votes\n",
        "FROM reviews\n",
        "WHERE num_votes >= 100000;"
      ],
      "metadata": {
        "id": "cxWq4rm_f7T9"
      },
      "execution_count": null,
      "outputs": []
    }
  ]
}