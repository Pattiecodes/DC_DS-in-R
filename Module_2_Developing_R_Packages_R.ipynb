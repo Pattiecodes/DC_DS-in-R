{
  "nbformat": 4,
  "nbformat_minor": 0,
  "metadata": {
    "colab": {
      "provenance": [],
      "authorship_tag": "ABX9TyMsJqWS9m410YxvoOoe7/FO",
      "include_colab_link": true
    },
    "kernelspec": {
      "name": "ir",
      "display_name": "R"
    },
    "language_info": {
      "name": "R"
    }
  },
  "cells": [
    {
      "cell_type": "markdown",
      "metadata": {
        "id": "view-in-github",
        "colab_type": "text"
      },
      "source": [
        "<a href=\"https://colab.research.google.com/github/Pattiecodes/DC_DS-in-R/blob/main/Module_2_Developing_R_Packages_R.ipynb\" target=\"_parent\"><img src=\"https://colab.research.google.com/assets/colab-badge.svg\" alt=\"Open In Colab\"/></a>"
      ]
    },
    {
      "cell_type": "markdown",
      "source": [
        "# --- Module Start ---"
      ],
      "metadata": {
        "id": "90s43K6Q3TA7"
      }
    },
    {
      "cell_type": "markdown",
      "source": [
        "# Create an R package\n",
        "Reproducibility and usability are pivotal in data analysis, and R packages cater to these needs perfectly. This exercise focuses on the usethis package in R, a tool that simplifies the creation of your own R packages.\n",
        "\n",
        "Imagine you've been handed the task by your manager of creating an R package around converting different distance measurements from one unit to another. This exercise sets you on this productive path with the first step.\n",
        "\n",
        "The usethis package has been loaded for you in this and the following exercises.\n",
        "\n",
        "Instructions\n",
        "100 XP\n",
        "Create the skeleton of an R package named \"unitConverter\" using the usethis package.\n",
        "Validate the package has been created by checking the file and directory structure of the package.|"
      ],
      "metadata": {
        "id": "Y3Xl6JqW3VIL"
      }
    },
    {
      "cell_type": "code",
      "execution_count": null,
      "metadata": {
        "id": "E-k6Gil0Nrqa"
      },
      "outputs": [],
      "source": [
        "# Create a package skeleton named unitConverter\n",
        "create_package(\"unitConverter\")\n",
        "\n",
        "# View and check the R package directory\n",
        "dir(\".\")"
      ]
    }
  ]
}