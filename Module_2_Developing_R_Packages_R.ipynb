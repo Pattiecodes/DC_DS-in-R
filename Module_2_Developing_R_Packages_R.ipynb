{
  "nbformat": 4,
  "nbformat_minor": 0,
  "metadata": {
    "colab": {
      "provenance": [],
      "authorship_tag": "ABX9TyNu3KpRwv+uAUxblqUajEIK",
      "include_colab_link": true
    },
    "kernelspec": {
      "name": "ir",
      "display_name": "R"
    },
    "language_info": {
      "name": "R"
    }
  },
  "cells": [
    {
      "cell_type": "markdown",
      "metadata": {
        "id": "view-in-github",
        "colab_type": "text"
      },
      "source": [
        "<a href=\"https://colab.research.google.com/github/Pattiecodes/DC_DS-in-R/blob/main/Module_2_Developing_R_Packages_R.ipynb\" target=\"_parent\"><img src=\"https://colab.research.google.com/assets/colab-badge.svg\" alt=\"Open In Colab\"/></a>"
      ]
    },
    {
      "cell_type": "markdown",
      "source": [
        "# --- Module Start ---"
      ],
      "metadata": {
        "id": "90s43K6Q3TA7"
      }
    },
    {
      "cell_type": "markdown",
      "source": [
        "# Create an R package\n",
        "Reproducibility and usability are pivotal in data analysis, and R packages cater to these needs perfectly. This exercise focuses on the usethis package in R, a tool that simplifies the creation of your own R packages.\n",
        "\n",
        "Imagine you've been handed the task by your manager of creating an R package around converting different distance measurements from one unit to another. This exercise sets you on this productive path with the first step.\n",
        "\n",
        "The usethis package has been loaded for you in this and the following exercises.\n",
        "\n",
        "Instructions\n",
        "100 XP\n",
        "Create the skeleton of an R package named \"unitConverter\" using the usethis package.\n",
        "Validate the package has been created by checking the file and directory structure of the package.|"
      ],
      "metadata": {
        "id": "Y3Xl6JqW3VIL"
      }
    },
    {
      "cell_type": "code",
      "execution_count": null,
      "metadata": {
        "id": "E-k6Gil0Nrqa"
      },
      "outputs": [],
      "source": [
        "# Create a package skeleton named unitConverter\n",
        "create_package(\"unitConverter\")\n",
        "\n",
        "# View and check the R package directory\n",
        "dir(\".\")"
      ]
    },
    {
      "cell_type": "markdown",
      "source": [
        "# Add data to the R package\n",
        "Now that you've created your unitConverter package, it's time to add some data. R packages aren't just for functions; they can also encapsulate related datasets.\n",
        "\n",
        "Your manager has requested that you add a specific dataset to your package to convert the units. In this exercise, you will load this data from a CSV file named \"distance_data.csv\" into your unitConverter package.\n",
        "\n",
        "The \"distance_data.csv\" file has been stored for you in the data-raw directory, and the readr package has been loaded for you.\n",
        "\n",
        "Instructions\n",
        "100 XP\n",
        "Read in and store the \"data-raw/distance_data.csv\" file as distance_data.\n",
        "Show the first six rows of distance_data.\n",
        "Load distance_data into the R package."
      ],
      "metadata": {
        "id": "bPa9N4aU3_6D"
      }
    },
    {
      "cell_type": "code",
      "source": [
        "# Read in distance data\n",
        "distance_data <- read_csv(\"data-raw/distance_data.csv\")\n",
        "\n",
        "# Print the first six rows of distance_data\n",
        "head(distance_data)\n",
        "\n",
        "# Add the distance data to the R package\n",
        "use_data(distance_data)"
      ],
      "metadata": {
        "id": "FwdBqDAs4AGy"
      },
      "execution_count": null,
      "outputs": []
    },
    {
      "cell_type": "markdown",
      "source": [
        "# Create an R package R Markdown template file\n",
        "Now that you have a data set inside your unitConverter package, the next step is to showcase how to use your package to convert the units in this data. One way to do this is by creating an R Markdown document that serves as a template for users of your package.\n",
        "\n",
        "Instructions 1/2\n",
        "50 XP\n",
        "2\n",
        "Create an R Markdown template with the name \"Distance Conversion Examples\" for the unitConverter package."
      ],
      "metadata": {
        "id": "brIni-zVCoR6"
      }
    },
    {
      "cell_type": "code",
      "source": [
        "# Make an R Markdown template file\n",
        "use_rmarkdown_template(\"Distance Conversion Examples\")"
      ],
      "metadata": {
        "id": "C9bNv-eJCoqB"
      },
      "execution_count": null,
      "outputs": []
    },
    {
      "cell_type": "markdown",
      "source": [
        "# R function for converting distances\n",
        "The unitConverter package you've been building can be even more versatile with a function converting distances from feet to meters and vice versa. This function could be invaluable for international collaborators, who frequently need to convert between these units.\n",
        "\n",
        "Here you'll create a function accepting a numeric distance value, the unit of this input value, and the unit to which you want to convert. Then you'll store this function in the package directory. You'll use a conditional structure within your function for the four possible conversions: feet to meters, meters to feet, feet to feet (no change), and meters to meters (no change).\n",
        "\n",
        "To convert feet to meters, multiply the feet value by 3.2808. To convert meters to feet, multiply the meter's value by 0.3048.\n",
        "\n",
        "Instructions 1/2\n",
        "50 XP\n",
        "2\n",
        "Define an R function dist_converter with three arguments without defaults: dist_value, unit_from, and unit_to.\n",
        "Convert the input distance from the specified unit to the desired unit via a conditional flow.\n",
        "Use your function to convert 100 meters into feet."
      ],
      "metadata": {
        "id": "ZIKdJnHzwQOQ"
      }
    },
    {
      "cell_type": "code",
      "source": [
        "# Define the dist_converter function\n",
        "dist_converter <- function(dist_value, unit_from, unit_to) {\n",
        "  # Fill in the missing parts of the if-else if-else flow\n",
        "  if (unit_from == \"feet\" && unit_to == \"meters\") {\n",
        "    return(dist_value / 3.28)\n",
        "  } else if (unit_from == \"meters\" && unit_to == \"feet\") {\n",
        "    return(dist_value * 3.28)\n",
        "  } else if (unit_from == unit_to) {\n",
        "    warning(\"unit_from and unit_to are the same, returning dist_value\")\n",
        "    return(dist_value)\n",
        "  } else {\n",
        "    warning(\"This function only supports conversions between feet and meters.\")\n",
        "  }\n",
        "}\n",
        "\n",
        "# Use dist_converter to convert 100 meters to feet\n",
        "dist_converter(100, unit_from = \"meters\", unit_to = \"feet\")"
      ],
      "metadata": {
        "id": "9atW_wSjwSMQ"
      },
      "execution_count": null,
      "outputs": []
    },
    {
      "cell_type": "markdown",
      "source": [
        "# R function for converting distances\n",
        "The unitConverter package you've been building can be even more versatile with a function converting distances from feet to meters and vice versa. This function could be invaluable for international collaborators, who frequently need to convert between these units.\n",
        "\n",
        "Here you'll create a function accepting a numeric distance value, the unit of this input value, and the unit to which you want to convert. Then you'll store this function in the package directory. You'll use a conditional structure within your function for the four possible conversions: feet to meters, meters to feet, feet to feet (no change), and meters to meters (no change).\n",
        "\n",
        "To convert feet to meters, multiply the feet value by 3.2808. To convert meters to feet, multiply the meter's value by 0.3048.\n",
        "\n",
        "Instructions 2/2\n",
        "50 XP\n",
        "Save the dist_converter function to the dist_converter.R file in the R directory of your package."
      ],
      "metadata": {
        "id": "_uAs10CGwudj"
      }
    },
    {
      "cell_type": "code",
      "source": [
        "# Save the dist_converter function to an R file using base R\n",
        "dump(\"dist_converter\", file = \"R/dist_converter.R\")"
      ],
      "metadata": {
        "id": "If8lM8kwwxoK"
      },
      "execution_count": null,
      "outputs": []
    },
    {
      "cell_type": "markdown",
      "source": [
        "# Install the R package and try it out\n",
        "The initial development phase of your unitConverter package has completed, and it's time to install it and put it to use. By installing your package, you ensure that all the functions, data, and templates are ready to use just like any other R package you'd install from CRAN.\n",
        "\n",
        "The devtools package and a current version of unitConverter have been loaded for you.\n",
        "\n",
        "Instructions 2/2\n",
        "50 XP\n",
        "Call the dist_converter() function from your unitConverter package with the ::: syntax.\n",
        "Now define unit_from by accessing the second row for unit in distance_data to convert to feet.\n"
      ],
      "metadata": {
        "id": "mOLIOK6bxqTR"
      }
    },
    {
      "cell_type": "code",
      "source": [
        "# Call the dist_converter function from the unitConverter package\n",
        "unitConverter:::dist_converter(dist_value = distance_data$value[2],\n",
        "                               unit_from = distance_data$unit[2],\n",
        "                               unit_to = \"feet\")"
      ],
      "metadata": {
        "id": "58bkqFNXxqsD"
      },
      "execution_count": null,
      "outputs": []
    }
  ]
}