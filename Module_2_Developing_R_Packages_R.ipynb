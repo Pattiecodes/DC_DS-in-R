{
  "nbformat": 4,
  "nbformat_minor": 0,
  "metadata": {
    "colab": {
      "provenance": [],
      "authorship_tag": "ABX9TyP/Vn3z2RLPphYWySEYhQWc",
      "include_colab_link": true
    },
    "kernelspec": {
      "name": "ir",
      "display_name": "R"
    },
    "language_info": {
      "name": "R"
    }
  },
  "cells": [
    {
      "cell_type": "markdown",
      "metadata": {
        "id": "view-in-github",
        "colab_type": "text"
      },
      "source": [
        "<a href=\"https://colab.research.google.com/github/Pattiecodes/DC_DS-in-R/blob/main/Module_2_Developing_R_Packages_R.ipynb\" target=\"_parent\"><img src=\"https://colab.research.google.com/assets/colab-badge.svg\" alt=\"Open In Colab\"/></a>"
      ]
    },
    {
      "cell_type": "markdown",
      "source": [
        "# --- Module Start ---"
      ],
      "metadata": {
        "id": "90s43K6Q3TA7"
      }
    },
    {
      "cell_type": "markdown",
      "source": [
        "# Create an R package\n",
        "Reproducibility and usability are pivotal in data analysis, and R packages cater to these needs perfectly. This exercise focuses on the usethis package in R, a tool that simplifies the creation of your own R packages.\n",
        "\n",
        "Imagine you've been handed the task by your manager of creating an R package around converting different distance measurements from one unit to another. This exercise sets you on this productive path with the first step.\n",
        "\n",
        "The usethis package has been loaded for you in this and the following exercises.\n",
        "\n",
        "Instructions\n",
        "100 XP\n",
        "Create the skeleton of an R package named \"unitConverter\" using the usethis package.\n",
        "Validate the package has been created by checking the file and directory structure of the package.|"
      ],
      "metadata": {
        "id": "Y3Xl6JqW3VIL"
      }
    },
    {
      "cell_type": "code",
      "execution_count": null,
      "metadata": {
        "id": "E-k6Gil0Nrqa"
      },
      "outputs": [],
      "source": [
        "# Create a package skeleton named unitConverter\n",
        "create_package(\"unitConverter\")\n",
        "\n",
        "# View and check the R package directory\n",
        "dir(\".\")"
      ]
    },
    {
      "cell_type": "markdown",
      "source": [
        "# Add data to the R package\n",
        "Now that you've created your unitConverter package, it's time to add some data. R packages aren't just for functions; they can also encapsulate related datasets.\n",
        "\n",
        "Your manager has requested that you add a specific dataset to your package to convert the units. In this exercise, you will load this data from a CSV file named \"distance_data.csv\" into your unitConverter package.\n",
        "\n",
        "The \"distance_data.csv\" file has been stored for you in the data-raw directory, and the readr package has been loaded for you.\n",
        "\n",
        "Instructions\n",
        "100 XP\n",
        "Read in and store the \"data-raw/distance_data.csv\" file as distance_data.\n",
        "Show the first six rows of distance_data.\n",
        "Load distance_data into the R package."
      ],
      "metadata": {
        "id": "bPa9N4aU3_6D"
      }
    },
    {
      "cell_type": "code",
      "source": [
        "# Read in distance data\n",
        "distance_data <- read_csv(\"data-raw/distance_data.csv\")\n",
        "\n",
        "# Print the first six rows of distance_data\n",
        "head(distance_data)\n",
        "\n",
        "# Add the distance data to the R package\n",
        "use_data(distance_data)"
      ],
      "metadata": {
        "id": "FwdBqDAs4AGy"
      },
      "execution_count": null,
      "outputs": []
    },
    {
      "cell_type": "markdown",
      "source": [
        "# Create an R package R Markdown template file\n",
        "Now that you have a data set inside your unitConverter package, the next step is to showcase how to use your package to convert the units in this data. One way to do this is by creating an R Markdown document that serves as a template for users of your package.\n",
        "\n",
        "Instructions 1/2\n",
        "50 XP\n",
        "2\n",
        "Create an R Markdown template with the name \"Distance Conversion Examples\" for the unitConverter package."
      ],
      "metadata": {
        "id": "brIni-zVCoR6"
      }
    },
    {
      "cell_type": "code",
      "source": [
        "# Make an R Markdown template file\n",
        "use_rmarkdown_template(\"Distance Conversion Examples\")"
      ],
      "metadata": {
        "id": "C9bNv-eJCoqB"
      },
      "execution_count": null,
      "outputs": []
    },
    {
      "cell_type": "markdown",
      "source": [
        "# R function for converting distances\n",
        "The unitConverter package you've been building can be even more versatile with a function converting distances from feet to meters and vice versa. This function could be invaluable for international collaborators, who frequently need to convert between these units.\n",
        "\n",
        "Here you'll create a function accepting a numeric distance value, the unit of this input value, and the unit to which you want to convert. Then you'll store this function in the package directory. You'll use a conditional structure within your function for the four possible conversions: feet to meters, meters to feet, feet to feet (no change), and meters to meters (no change).\n",
        "\n",
        "To convert feet to meters, multiply the feet value by 3.2808. To convert meters to feet, multiply the meter's value by 0.3048.\n",
        "\n",
        "Instructions 1/2\n",
        "50 XP\n",
        "2\n",
        "Define an R function dist_converter with three arguments without defaults: dist_value, unit_from, and unit_to.\n",
        "Convert the input distance from the specified unit to the desired unit via a conditional flow.\n",
        "Use your function to convert 100 meters into feet."
      ],
      "metadata": {
        "id": "ZIKdJnHzwQOQ"
      }
    },
    {
      "cell_type": "code",
      "source": [
        "# Define the dist_converter function\n",
        "dist_converter <- function(dist_value, unit_from, unit_to) {\n",
        "  # Fill in the missing parts of the if-else if-else flow\n",
        "  if (unit_from == \"feet\" && unit_to == \"meters\") {\n",
        "    return(dist_value / 3.28)\n",
        "  } else if (unit_from == \"meters\" && unit_to == \"feet\") {\n",
        "    return(dist_value * 3.28)\n",
        "  } else if (unit_from == unit_to) {\n",
        "    warning(\"unit_from and unit_to are the same, returning dist_value\")\n",
        "    return(dist_value)\n",
        "  } else {\n",
        "    warning(\"This function only supports conversions between feet and meters.\")\n",
        "  }\n",
        "}\n",
        "\n",
        "# Use dist_converter to convert 100 meters to feet\n",
        "dist_converter(100, unit_from = \"meters\", unit_to = \"feet\")"
      ],
      "metadata": {
        "id": "9atW_wSjwSMQ"
      },
      "execution_count": null,
      "outputs": []
    },
    {
      "cell_type": "markdown",
      "source": [
        "# R function for converting distances\n",
        "The unitConverter package you've been building can be even more versatile with a function converting distances from feet to meters and vice versa. This function could be invaluable for international collaborators, who frequently need to convert between these units.\n",
        "\n",
        "Here you'll create a function accepting a numeric distance value, the unit of this input value, and the unit to which you want to convert. Then you'll store this function in the package directory. You'll use a conditional structure within your function for the four possible conversions: feet to meters, meters to feet, feet to feet (no change), and meters to meters (no change).\n",
        "\n",
        "To convert feet to meters, multiply the feet value by 3.2808. To convert meters to feet, multiply the meter's value by 0.3048.\n",
        "\n",
        "Instructions 2/2\n",
        "50 XP\n",
        "Save the dist_converter function to the dist_converter.R file in the R directory of your package."
      ],
      "metadata": {
        "id": "_uAs10CGwudj"
      }
    },
    {
      "cell_type": "code",
      "source": [
        "# Save the dist_converter function to an R file using base R\n",
        "dump(\"dist_converter\", file = \"R/dist_converter.R\")"
      ],
      "metadata": {
        "id": "If8lM8kwwxoK"
      },
      "execution_count": null,
      "outputs": []
    },
    {
      "cell_type": "markdown",
      "source": [
        "# Install the R package and try it out\n",
        "The initial development phase of your unitConverter package has completed, and it's time to install it and put it to use. By installing your package, you ensure that all the functions, data, and templates are ready to use just like any other R package you'd install from CRAN.\n",
        "\n",
        "The devtools package and a current version of unitConverter have been loaded for you.\n",
        "\n",
        "Instructions 2/2\n",
        "50 XP\n",
        "Call the dist_converter() function from your unitConverter package with the ::: syntax.\n",
        "Now define unit_from by accessing the second row for unit in distance_data to convert to feet.\n"
      ],
      "metadata": {
        "id": "mOLIOK6bxqTR"
      }
    },
    {
      "cell_type": "code",
      "source": [
        "# Call the dist_converter function from the unitConverter package\n",
        "unitConverter:::dist_converter(dist_value = distance_data$value[2],\n",
        "                               unit_from = distance_data$unit[2],\n",
        "                               unit_to = \"feet\")"
      ],
      "metadata": {
        "id": "58bkqFNXxqsD"
      },
      "execution_count": null,
      "outputs": []
    },
    {
      "cell_type": "markdown",
      "source": [
        "# Checking your package name\n",
        "You'll now take on the role of a helpful coworker assisting your colleague with a task. Your colleague needs to work with the available package to perform several checks related to package names. You will guide them through the process of checking the validity of a given package name, verifying the availability of the name on CRAN, and analyzing the sentiment of the name.\n",
        "\n",
        "The available package has been loaded for you.\n",
        "\n",
        "Instructions\n",
        "100 XP\n",
        "Perform checks for the package name gg_plot2, then review the output to see if it satisfies CRAN naming standards.\n",
        "Perform checks for the package name unitConverter, then review the output to see if the name is available on CRAN.\n",
        "Perform checks for the package name terrible, then review the output to check the sentiment for the name."
      ],
      "metadata": {
        "id": "6Gg7IWFhjaq3"
      }
    },
    {
      "cell_type": "code",
      "source": [
        "# Check if gg_plot2 meets CRAN naming standards\n",
        "available(\"gg_plot2\")\n",
        "\n",
        "# Check if unitConverter is available on CRAN\n",
        "available(\"unitConverter\")\n",
        "\n",
        "# Check sentiment of terrible\n",
        "available(\"terrible\")"
      ],
      "metadata": {
        "id": "YBx4GRHijbBF"
      },
      "execution_count": null,
      "outputs": []
    },
    {
      "cell_type": "markdown",
      "source": [
        "# Choosing an appropriate license for your package\n",
        "Choosing an appropriate license for your package is important as it dictates how others can use, modify, and distribute your package.\n",
        "\n",
        "After choosing the correct license, you'll use the appropriate function from the usethis package to apply it to the unitConverter package.\n",
        "\n",
        "Instructions 2/2\n",
        "50 XP\n",
        "Use the appropriate function from the usethis package to add a fitting license to the unitConverter package."
      ],
      "metadata": {
        "id": "6spGKcZnjt26"
      }
    },
    {
      "cell_type": "code",
      "source": [
        "# Use the appropriate license\n",
        "use_mit_license()"
      ],
      "metadata": {
        "id": "8hlD3jqvjvDQ"
      },
      "execution_count": null,
      "outputs": []
    },
    {
      "cell_type": "markdown",
      "source": [
        "# Adding and testing a new function in the package\n",
        "Another colleague has requested that the unitConverter package you've been working on expand its functionality. In this exercise, you will add a new function weight_converter that converts between different weight units. You'll then check to make sure all the package files load as expected.\n",
        "\n",
        "The devtools and usethis packages have been loaded for you. The weight_converter function has been provided for you.\n",
        "\n",
        "Instructions 3/3\n",
        "30 XP\n",
        "Load all package files to check for any syntax errors."
      ],
      "metadata": {
        "id": "fJt936JXgHTP"
      }
    },
    {
      "cell_type": "code",
      "source": [
        "# Import package files to current R session\n",
        "load_all()\n",
        "check()"
      ],
      "metadata": {
        "id": "gmmDcin4gHo9"
      },
      "execution_count": null,
      "outputs": []
    },
    {
      "cell_type": "markdown",
      "source": [
        "# Debug errors with load_all()\n",
        "You've been working with your friend on the weight_converter() function, and you have just dumped it to the weight_converter.R file. You next want to check to make sure all of the R files in the package load, and then make any fixes if errors are found.\n",
        "\n",
        "The devtools package has been loaded for you.\n",
        "\n",
        "Instructions 2/2\n",
        "50 XP\n",
        "Review the weight_converter() function code, and fix the error that caused load_all() to not load the weight_converter.R file.\n",
        "Dump your fixed function to an R file, overwriting the broken one.\n",
        "Load all of the files again."
      ],
      "metadata": {
        "id": "Y2quGR6Jg_kW"
      }
    },
    {
      "cell_type": "code",
      "source": [
        "# Review the function definition, and fix the syntax error\n",
        "weight_converter <- function(value, from_unit, to_unit) {\n",
        "  conversion_factors <- c(gram = 1, kilogram = 1000,\n",
        "                          pound = 453.592, ounce = 28.3495)\n",
        "  value_in_gram <- value * conversion_factors[from_unit]\n",
        "  return(value_in_gram / conversion_factors[to_unit])\n",
        "}\n",
        "\n",
        "# Dump the fixed function code to the file\n",
        "dump(\"weight_converter\", \"R/weight_converter.R\")\n",
        "\n",
        "# Load the files once more\n",
        "load_all()"
      ],
      "metadata": {
        "id": "jCwJF33tg_42"
      },
      "execution_count": null,
      "outputs": []
    },
    {
      "cell_type": "markdown",
      "source": [
        "# Set package dependencies\n",
        "Package dependencies are crucial in R package development. They ensure the proper functioning of packages by providing required functions, additional functionality, and examples. Dependencies promote code reusability, simplify package installation, and enhance package compatibility. Managing dependencies is essential for developing robust and efficient R packages.\n",
        "\n",
        "Your boss has requested that you add ggplot2 as a suggested dependency, since some of the examples with our loaded datasets in unitConverter can be visualized well.\n",
        "\n",
        "The usethis package has been loaded for you.\n",
        "\n",
        "Instructions\n",
        "100 XP\n",
        "Add the ggplot2 package as a suggested dependency with version 3.0.0 or higher."
      ],
      "metadata": {
        "id": "-3GHND7Qczne"
      }
    },
    {
      "cell_type": "code",
      "source": [
        "# Suggest ggplot2 >= 3.0.0\n",
        "use_package(\"ggplot2\", min_version=\"3.0.0\", type=\"Suggests\")"
      ],
      "metadata": {
        "id": "82eZ971Ocz4N"
      },
      "execution_count": null,
      "outputs": []
    },
    {
      "cell_type": "markdown",
      "source": [
        "# Set more package dependencies\n",
        "Your boss has also requested that you add dplyr as a dependency, since many of the functions in dplyr can facilitate work with our package. dplyr also contains some additional helpful functionality that we want available whenever our package is loaded.\n",
        "\n",
        "The usethis package has been loaded for you.\n",
        "\n",
        "Instructions\n",
        "100 XP\n",
        "Add the dplyr package as a required dependency with version 1.1.0 or higher."
      ],
      "metadata": {
        "id": "M4DxTJXQuBEE"
      }
    },
    {
      "cell_type": "code",
      "source": [
        "# Import dplyr >= 1.1.0\n",
        "use_package(\"dplyr\", min_version=\"1.1.0\", type=\"Imports\")"
      ],
      "metadata": {
        "id": "ZVkvFbW5uBZL"
      },
      "execution_count": null,
      "outputs": []
    },
    {
      "cell_type": "markdown",
      "source": [
        "# Function documentation starters\n",
        "The roxygen2 headers, included in the same script as the function code, use roxygen2 comments #' to identify the header lines. The first two comments (title and description) have special meaning and do not require tags, but must be separated by a new line. Keep in mind that the title provides a brief overview of the function's objective, while the description offers additional information and elaboration. For example:\n",
        "```\n",
        "#' My function title\n",
        "#'\n",
        "#' Its description\n",
        "```\n",
        "Instructions\n",
        "100 XP\n",
        "Add the title \"Convert between distances\" to your roxygen2 header.\n",
        "Add the following short description of the function: \"Performs the conversion based on specified unit_from and unit_to values.\""
      ],
      "metadata": {
        "id": "-7Abuqg-JAC-"
      }
    },
    {
      "cell_type": "code",
      "source": [
        "# Add the title\n",
        "#' Convert between distances\n",
        "#'\n",
        "# Add the description\n",
        "#'Performs the conversion based on specified unit_from and unit_to values.\n",
        "dist_converter <- function(dist_value, unit_from, unit_to) {\n",
        "  if (unit_from == \"feet\" && unit_to == \"meters\") {\n",
        "    return(dist_value / 3.28)\n",
        "  } else if (unit_from == \"meters\" && unit_to == \"feet\") {\n",
        "    return(dist_value * 3.28)\n",
        "  } else if (unit_from == unit_to) {\n",
        "    warning(\"unit_from and unit_to are the same, returning dist_value\")\n",
        "    return(dist_value)\n",
        "  } else {\n",
        "    stop(\"This function only supports conversions between feet and meters.\")\n",
        "  }\n",
        "}"
      ],
      "metadata": {
        "id": "MI9iH1F5JAU-"
      },
      "execution_count": null,
      "outputs": []
    },
    {
      "cell_type": "markdown",
      "source": [
        "# Function argument documentation\n",
        "When documenting a function, one crucial aspect to cover is its arguments. With roxygen2, you can achieve this using the @param tag, followed by the argument name and relevant details. You'll just document the first argument in the exercise here, but it is best practice to document each of your function arguments, so you should think about how to document the other two at a later time.\n",
        "\n",
        "Instructions\n",
        "100 XP\n",
        "Add an appropriate tag to document the first argument of the dist_converter() function by adding the following details to this tag: A numerical distance value to be converted."
      ],
      "metadata": {
        "id": "9SgH8_VUDzoE"
      }
    },
    {
      "cell_type": "code",
      "source": [
        "#' Convert between distances\n",
        "#'\n",
        "#' Performs the conversion based on specified `unit_from` and `unit_to` values.\n",
        "#'\n",
        "# Add appropriate tag and details to document the first argument\n",
        "#' @param dist_value A numerical distance value to be converted.\n",
        "dist_converter <- function(dist_value, unit_from, unit_to) {\n",
        "  if (unit_from == \"feet\" && unit_to == \"meters\") {\n",
        "    return(dist_value / 3.28)\n",
        "  } else if (unit_from == \"meters\" && unit_to == \"feet\") {\n",
        "    return(dist_value * 3.28)\n",
        "  } else if (unit_from == unit_to) {\n",
        "    warning(\"unit_from and unit_to are the same, returning dist_value\")\n",
        "    return(dist_value)\n",
        "  } else {\n",
        "    stop(\"This function only supports conversions between feet and meters.\")\n",
        "  }\n",
        "}"
      ],
      "metadata": {
        "id": "5lpRdo5VDz9B"
      },
      "execution_count": null,
      "outputs": []
    },
    {
      "cell_type": "markdown",
      "source": [
        "# Function returns and exporting\n",
        "When documenting the return value of a function, you specify what users can expect as the output of the function, whether it's data, a number, a vector of strings, or any other R result.\n",
        "\n",
        "While the NAMESPACE file is responsible for identifying exported functions, you create this file using roxygen2 tags. By using these tags, you can easily determine whether users will have access to a function right alongside its documentation. You mark a function for exporting in the roxygen2 header. This straightforward approach ensures that you can clearly indicate which functions are available for users to work with in the documentation itself.\n",
        "\n",
        "Instructions\n",
        "100 XP\n",
        "Document the return value with the following description: \"A numeric distance value in the unit specified as `unit_to`.\"\n",
        "Export the function."
      ],
      "metadata": {
        "id": "M4VuAfT1EOk9"
      }
    },
    {
      "cell_type": "code",
      "source": [
        "#' Convert between distances\n",
        "#'\n",
        "#' Performs the conversion based on specified `unit_from` and `unit_to` values.\n",
        "#'\n",
        "#' @param dist_value A numerical distance value to be converted.\n",
        "#' @param unit_from A character string of the distance unit to convert from\n",
        "#' @param unit_to A character string of the distance unit to convert to\n",
        "# Add returning value description and tag\n",
        "#' @returns A numeric distance value in the unit specified as `unit_to`.\n",
        "# Export this function\n",
        "#' @export\n",
        "\n",
        "dist_converter <- function(dist_value, unit_from, unit_to) {\n",
        "  if (unit_from == \"feet\" && unit_to == \"meters\") {\n",
        "    return(dist_value / 3.28)\n",
        "  } else if (unit_from == \"meters\" && unit_to == \"feet\") {\n",
        "    return(dist_value * 3.28)\n",
        "  } else if (unit_from == unit_to) {\n",
        "    warning(\"unit_from and unit_to are the same, returning dist_value\")\n",
        "    return(dist_value)\n",
        "  } else {\n",
        "    stop(\"This function only supports conversions between feet and meters.\")\n",
        "  }\n",
        "}"
      ],
      "metadata": {
        "id": "Nal8rr_ZEO1j"
      },
      "execution_count": null,
      "outputs": []
    },
    {
      "cell_type": "markdown",
      "source": [
        "# Generate help file documentation\n",
        "After creating your documentation using roxygen2 headers, the next step is to build it. You can achieve this for all functions in the package by utilizing the roxygenize() function from the roxygen2 package. The documentation for each function will be generated as separate files (one for each function) in the man directory. Once this documentation creation step is complete, you can access the help files and view them alongside your other packages. By following this process, you ensure that your package is well-documented and ready for use.\n",
        "\n",
        "The roxygen2 package has been loaded for you in addition to all of the package files up to this point in the course.\n",
        "\n",
        "Instructions\n",
        "100 XP\n",
        "Generate documentation for all functions in the unitConverter package."
      ],
      "metadata": {
        "id": "yE6fCfPdEnCi"
      }
    },
    {
      "cell_type": "code",
      "source": [
        "# Generate all function documentation\n",
        "roxygenize()"
      ],
      "metadata": {
        "id": "Ls5r6DICEnUH"
      },
      "execution_count": null,
      "outputs": []
    },
    {
      "cell_type": "markdown",
      "source": [
        "# Browse package vignette\n",
        "Vignettes are an essential part of R package documentation as they provide detailed explanations, examples, and tutorials on how to use the package's functionality. In this exercise, you will explore the vignettes available in a popular R package: ggplot2. Reviewing the vignettes in the ggplot2 package can be immensely helpful for a beginning R package creator to understand vignettes. These vignettes, created by experienced developers, serve as practical examples and guides for using vignettes effectively. By studying how vignettes are structured, formatted, and integrated into the package, novice creators can gain insights into best practices and apply them to their own documentation efforts.\n",
        "\n",
        "Instructions\n",
        "100 XP\n",
        "Browse the vignettes of the ggplot2 package."
      ],
      "metadata": {
        "id": "FzKZgCGofx3m"
      }
    },
    {
      "cell_type": "code",
      "source": [
        "# Browse vignettes for ggplot2 package\n",
        "browseVignettes(\"ggplot2\")"
      ],
      "metadata": {
        "id": "SfzjY5nyfyPe"
      },
      "execution_count": null,
      "outputs": []
    },
    {
      "cell_type": "markdown",
      "source": [
        "# Generate an R package vignette skeleton\n",
        "You have been working closely with your team on developing this unitConverter R package. You've added data, built functions, documented those functions, and many other practices aligned with successful package development. It's now time to generate a vignette for this package.\n",
        "\n",
        "The usethis package has been loaded for you.\n",
        "\n",
        "Instructions\n",
        "100 XP\n",
        "Create a vignette with name \"dist_conversion\" and title \"Distance Conversion Examples\"."
      ],
      "metadata": {
        "id": "3jIzGVaKEGXA"
      }
    },
    {
      "cell_type": "code",
      "source": [
        "# Create vignette\n",
        "use_vignette(name = \"dist_conversion\",\n",
        "             title = \"Distance Conversion Examples\")"
      ],
      "metadata": {
        "id": "iqXVFp8nEGtA"
      },
      "execution_count": null,
      "outputs": []
    },
    {
      "cell_type": "markdown",
      "source": [
        "# Design an R package vignette\n",
        "This document is the vignette skeleton dist_conversion.Rmd created in the last exercise. It includes the most familiar parts of an R Markdown document:\n",
        "\n",
        "A YAML header that contains some metadata\n",
        "Narrative text written in Markdown\n",
        "R code chunks surrounded by ```{r} and ```; a syntax that comes from the knitr package\n",
        "To develop package documentation for the unitConverter package, it is vital to show users many different ways to work with the functionality of the package. Vignettes serve that purpose in both showing examples and also adding explanatory text and clarifications in an easy-to-read format.\n",
        "\n",
        "Instructions\n",
        "100 XP\n",
        "Create a heading on line 22 of \"Convert feet to meters\" with no subheadings.\n",
        "Add \"We can use the package to convert 5 feet into meters as follows.\" after the the heading, leading one line of space.\n",
        "In the dist-example chunk, make the appropriate call to the dist_converter() function to achieve the task you have described.\n",
        "At the end, output the result inline with \"Five feet is r dist_result meters.\""
      ],
      "metadata": {
        "id": "OFRDAZtSHn1w"
      }
    },
    {
      "cell_type": "code",
      "source": [
        "___\n",
        "title: \"Distance Conversion Examples\"\n",
        "output: rmarkdown::html_vignette\n",
        "vignette: >\n",
        "  %\\VignetteIndexEntry{Distance Conversion Examples}\n",
        "  %\\VignetteEngine{knitr::rmarkdown}\n",
        "  %\\VignetteEncoding{UTF-8}\n",
        "___\n",
        "\n",
        "```{r, include = FALSE}\n",
        "knitr::opts_chunk$set(\n",
        "  collapse = TRUE,\n",
        "  comment = \"#>\"\n",
        ")\n",
        "```\n",
        "\n",
        "```{r setup}\n",
        "library(unitConverter)\n",
        "```\n",
        "\n",
        "# Convert feet to meters\n",
        "\"We can use the package to convert 5 feet into meters as follows.\"\n",
        "\n",
        "\n",
        "```{r dist-example}\n",
        "dist_result <- dist_converter(dist_value = 5, unit_from = \"feet\", unit_to = \"meters\")\n",
        "```\n",
        "Five feet is `r dist_result` meters."
      ],
      "metadata": {
        "id": "WT1yeCu7HoKE"
      },
      "execution_count": null,
      "outputs": []
    },
    {
      "cell_type": "markdown",
      "source": [
        "# Build package vignettes\n",
        "Using Knit HTML (or rmarkdown::render()) is one way to test the build-ability of your vignette. It is best to use the devtools package functionality to build all vignettes. Doing so allows you to automatically build and update the vignettes, ensuring that they are always up to date with the latest changes in your unitConverter package. This simplifies the workflow of creating, testing, and maintaining vignettes, saving time and effort in the documentation process.\n",
        "\n",
        "The devtools package has been loaded for you along with the package so far, including both dist_conversion.Rmd and func_conversion.Rmd files.\n",
        "\n",
        "Instructions\n",
        "100 XP\n",
        "Build all vignettes in the package with a single function call."
      ],
      "metadata": {
        "id": "2-qLvXAwHqnv"
      }
    },
    {
      "cell_type": "code",
      "source": [
        "# Build all package vignettes\n",
        "devtools::build_vignettes()"
      ],
      "metadata": {
        "id": "lHTgxC-jIS4A"
      },
      "execution_count": null,
      "outputs": []
    },
    {
      "cell_type": "markdown",
      "source": [
        "# Convert an example into a test\n",
        "Unit tests are crucial for verifying the behavior of individual components in the unitConverter package. They help catch bugs and errors early, providing a safety net during code modification. Additionally, unit tests facilitate collaboration among developers and maintain code quality.\n",
        "\n",
        "In this exercise, you will be given a code example from the unitConverter package. Converting examples into unit tests is a common first step in creating them. Successfully defining the expectation function is an important piece in unit test creation.\n",
        "\n",
        "The testthat package and the unitConverter package at this point in development have been loaded for you.\n",
        "\n",
        "Instructions\n",
        "100 XP\n",
        "Review the dist_converter() example.\n",
        "Turn the given example into a unit test checking for similarity."
      ],
      "metadata": {
        "id": "LONhjNJZjguW"
      }
    },
    {
      "cell_type": "code",
      "source": [
        "# Review the example\n",
        "dist_converter(100, unit_from = \"meters\", unit_to = \"feet\")\n",
        "\n",
        "# Convert the example to a unit test comparing sameness\n",
        "expect_equal(\n",
        "    object = dist_converter(99, unit_from = \"meters\", unit_to = \"feet\"),\n",
        "    expected = 324.72\n",
        ")"
      ],
      "metadata": {
        "id": "zyMcV9RYjhB7"
      },
      "execution_count": null,
      "outputs": []
    },
    {
      "cell_type": "markdown",
      "source": [
        "# Check for warnings and errors\n",
        "Another key part of test-driven package development is to ensure that errors and warnings are being outputted when we expect them to be. As someone that now has experience building and working with R functions, you understand that it is expected behavior for warnings and errors to appear if incorrect arguments were passed into the function. For example, the dist_converter() function in the unitConverter package is expected to produce a warning and also an error depending on the inputs to the function when it is called. We need to write expectations to ensure this behavior does occur when we expected it. Remember that expectations do not output anything if they were successful.\n",
        "\n",
        "The testthat package and the unitConverter package at this point in development have been loaded for you.\n",
        "\n",
        "Instructions\n",
        "100 XP\n",
        "Create an expectation showing that converting 25 feet to feet producing a warning.\n",
        "Define an expectation showing that converting \"cold\" feet to meters produces an error."
      ],
      "metadata": {
        "id": "RX2NEdmnkxgB"
      }
    },
    {
      "cell_type": "code",
      "source": [
        "# Warning for feet to feet\n",
        "dist_converter(25, \"feet\", \"feet\")\n",
        "\n",
        "# Error for cold feet\n",
        "dist_converter(\"cold\", \"feet\", \"meters\")"
      ],
      "metadata": {
        "id": "DpR6pvcIkxwW"
      },
      "execution_count": null,
      "outputs": []
    },
    {
      "cell_type": "markdown",
      "source": [
        "# Fix expectation errors\n",
        "Sometimes it becomes necessary to fix tests that may have been entered incorrectly to their correct forms. As you've looked over function definitions like that of temp_converter(), unit testing is also a handy technique to familiarize yourself with the inner workings of package functionality. In this exercise, you'll explore fixing tests, grouping them together, and also testing groups all at once.\n",
        "\n",
        "You'll begin by reviewing errors in the first step, and then fix the errors in the second step.\n",
        "\n",
        "The testthat package and the unitConverter package at this point in development have been loaded for you.\n",
        "\n",
        "Instructions 1/3\n",
        "35 XP\n",
        "2\n",
        "3\n",
        "Run the code given.\n",
        "Fix each of the expected outputs to be their correct expected value."
      ],
      "metadata": {
        "id": "-LXxx6lP4H7d"
      }
    },
    {
      "cell_type": "code",
      "source": [
        "# Change each of the expectations below to have correct outputs\n",
        "expect_equal(\n",
        "  dist_converter(200, unit_from = \"meters\", unit_to = \"feet\"),\n",
        "  656\n",
        ")\n",
        "expect_equal(\n",
        "  dist_converter(656, unit_from = \"feet\", unit_to = \"meters\"),\n",
        "  200\n",
        ")"
      ],
      "metadata": {
        "id": "g4gKPDwc4Ihi"
      },
      "execution_count": null,
      "outputs": []
    },
    {
      "cell_type": "markdown",
      "source": [
        "Instructions 2/3\n",
        "35 XP\n",
        "3\n",
        "Group these expectations into a single test.\n",
        "\n",
        "**Note: 3/3 is a multiple-choice"
      ],
      "metadata": {
        "id": "ztinDby04Sy0"
      }
    },
    {
      "cell_type": "code",
      "source": [
        "# Wrap working expectations together in a group\n",
        "test_that(\"Conversion from feet to meters and meters to feet works\", {\n",
        "  expect_equal(dist_converter(200, unit_from = \"meters\",\n",
        "                                unit_to = \"feet\"),\n",
        "               656)\n",
        "  expect_equal(dist_converter(656, unit_from = \"feet\",\n",
        "                              unit_to = \"meters\"),\n",
        "               200)\n",
        "})"
      ],
      "metadata": {
        "id": "GekwHjkU4TUo"
      },
      "execution_count": null,
      "outputs": []
    }
  ]
}